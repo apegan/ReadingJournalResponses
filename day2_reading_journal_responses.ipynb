{
 "cells": [
  {
   "cell_type": "markdown",
   "metadata": {},
   "source": [
    "# Day 2 Reading Journal – Responses"
   ]
  },
  {
   "cell_type": "markdown",
   "metadata": {
    "is_question": true
   },
   "source": [
    "### Exercise 7.1  \n",
    "To test the square root algorithm you developed in Exercise 2, you could compare it with Python's `math.sqrt` function. Write a function named `test_square_root` that prints a table like this:\n",
    "\n",
    "```python\n",
    "1.0 1.0           1.0           0.0\n",
    "2.0 1.41421356237 1.41421356237 2.22044604925e-16\n",
    "3.0 1.73205080757 1.73205080757 0.0\n",
    "4.0 2.0           2.0           0.0\n",
    "5.0 2.2360679775  2.2360679775  0.0\n",
    "6.0 2.44948974278 2.44948974278 0.0\n",
    "7.0 2.64575131106 2.64575131106 0.0\n",
    "8.0 2.82842712475 2.82842712475 4.4408920985e-16\n",
    "9.0 3.0           3.0           0.0\n",
    "```\n",
    "\n",
    "The first column is a number, `a`; the second column is the square root of a computed with the function from Section 7.5; the third column is the square root computed by `math.sqrt`; the fourth column is the absolute value of the difference between the two estimates."
   ]
  },
  {
   "cell_type": "code",
   "execution_count": 66,
   "metadata": {
    "collapsed": false
   },
   "outputs": [],
   "source": [
    "import math\n",
    "\n",
    "def spaces(string):\n",
    "    return (20 - len(str(string))) * \" \"\n",
    "\n",
    "def test_square_root(n):\n",
    "    i = 1.0\n",
    "    while i <= n:\n",
    "        mysq = square_root(i)\n",
    "        pysq = math.sqrt(i)\n",
    "        print(i, \" \" * 5, mysq, spaces(mysq), pysq, spaces(pysq), mysq - pysq)\n",
    "        i = i + 1.0\n",
    "        \n",
    "test_square_root(5.0)\n",
    "    "
   ]
  },
  {
   "cell_type": "code",
   "execution_count": 13,
   "metadata": {
    "collapsed": false
   },
   "outputs": [],
   "source": [
    "import math\n",
    "\n",
    "def square_root(a):\n",
    "    y = 0\n",
    "    x = 3\n",
    "    while True:\n",
    "        y = (x + a/x)/2\n",
    "        if y == x:\n",
    "            break\n",
    "        x=y\n",
    "    return y\n",
    "\n",
    "def test_square_root():\n",
    "    for x in range (1,10):\n",
    "        print (x,end=' ')\n",
    "        if len(str(square_root(x))) < 5:\n",
    "            end_char = '\\t'*3\n",
    "        else:\n",
    "            end_char = '\\t'\n",
    "        print (square_root(x),end = end_char)\n",
    "        print (x**.5,end = end_char)\n",
    "        print (abs(square_root(x)-x**.5))\n",
    "\n",
    "test_square_root()"
   ]
  },
  {
   "cell_type": "code",
   "execution_count": 136,
   "metadata": {
    "collapsed": false
   },
   "outputs": [],
   "source": [
    "import math\n",
    "\n",
    "def square_root(a):\n",
    "    x = a/2\n",
    "    epsilon = 10**(-100)\n",
    "    while True:\n",
    "        y = (x + a/x) / 2\n",
    "        if (abs(y-x) < epsilon):\n",
    "            return x\n",
    "        x = y\n",
    "\n",
    "def test_square_root(a):\n",
    "    \n",
    "    mysqrt = square_root(a)   #uses my function to estimate the square root\n",
    "    realsqrt = math.sqrt(a)   #this computes the real square root\n",
    "    \n",
    "    c1 = str(float(a))    #1st column is the value of a\n",
    "    c2 = str(mysqrt)      #2nd column is the estimation\n",
    "    \n",
    "    if len(c2)<18:         #makes spacing nice for the 2nd column\n",
    "        need2 = 18-len(c2) #use length of the string to determine how much space to add\n",
    "        c2 = c2+need2*' '  \n",
    "        \n",
    "    c3 = str(realsqrt)     #3rd column is the real value\n",
    "    \n",
    "    if len(c3)<18:         #same as above, but for 3rd column\n",
    "        need3 = 18-len(c3)\n",
    "        c3 = c3+need3*' '  \n",
    "        \n",
    "    c4 = abs(mysqrt-realsqrt)  #4th column is the error bewteen the values\n",
    "    \n",
    "    \n",
    "    print(c1, end = ' ')\n",
    "    print(c2, end = ' ')\n",
    "    print(c3, end = ' ')\n",
    "    print(c4)\n",
    "\n",
    "for i in range(1, 10):\n",
    "    test_square_root(i)  #run the test function\n"
   ]
  },
  {
   "cell_type": "code",
   "execution_count": 32,
   "metadata": {
    "collapsed": false
   },
   "outputs": [],
   "source": [
    "import math\n",
    "def square_root(a):\n",
    "    x=a\n",
    "    while True:\n",
    "        #print(x)\n",
    "        y = (x + a/x) / 2\n",
    "        if y == x:\n",
    "            return x\n",
    "        x = y\n",
    "\n",
    "\n",
    "def test_square_root():\n",
    "    x=1\n",
    "    while x<10:\n",
    "        print(\"%r %r %r %r\" %(float(x),square_root(float(x)),math.sqrt(float(x)), abs(square_root(float(x))-math.sqrt(float(x)))))\n",
    "        x = x +1\n",
    "              \n",
    "test_square_root()"
   ]
  },
  {
   "cell_type": "code",
   "execution_count": 57,
   "metadata": {
    "collapsed": false
   },
   "outputs": [],
   "source": [
    "def test_square_root():\n",
    "    print('a sqaure_root' +' '*3 + 'math.sqrt' +' '*5 + 'Error'  )\n",
    "    for i in range(1,10):\n",
    "        print(i, end=' ')\n",
    "        print('%.11f' %(square_root(i)), end=' ')\n",
    "        print('%.11f' %(math.sqrt(i)), end=' ')\n",
    "        print(abs(math.sqrt(i) - square_root(i)))\n",
    "        \n",
    "test_square_root()"
   ]
  },
  {
   "cell_type": "code",
   "execution_count": 25,
   "metadata": {
    "collapsed": false
   },
   "outputs": [],
   "source": [
    "import math\n",
    "print('{0:<18} {1:<18} {2:<18} {3:<18}'.format(\"a\",\"My Function\",\"math.sqrt\",\"Absolute Difference\"))\n",
    "for i in range(1,10):\n",
    "    func = square_root(i)\n",
    "    real = math.sqrt(i)\n",
    "    ab = abs(func-real)\n",
    "    print('{0:<18} {1:<18} {2:<18} {3:<18}'.format(i,func,real,ab))"
   ]
  },
  {
   "cell_type": "code",
   "execution_count": 28,
   "metadata": {
    "collapsed": false
   },
   "outputs": [],
   "source": [
    "def test_square_root():\n",
    "    import math\n",
    "    for num in range (1,10):\n",
    "        #establishes the values for each column\n",
    "        ex = square_root(num)\n",
    "        act = math.sqrt(num)\n",
    "        dif = math.fabs(ex-act)\n",
    "        \n",
    "        #rounds the first two values to the same as the example\n",
    "        ex = round(ex,11)\n",
    "        act = round(act,11)\n",
    "        #the last column is not rounded\n",
    "        \n",
    "        #establishes the number of spaces, similar to right_justify\n",
    "        space1 = (13-len(str(ex))) * ' '\n",
    "        space2 = (13-len(str(act))) * ' '\n",
    "        \n",
    "        #prints it all instead of storing\n",
    "        print(num*1.0,ex, space1, act, space2, dif)\n",
    "        \n",
    "def square_root(a):\n",
    "    x = a / 4\n",
    "    for i in range (0,10):\n",
    "        x = equation(a,x)\n",
    "    return x\n",
    "    \n",
    "def equation(a,x):\n",
    "    return (x + a / x)/2\n",
    "\n",
    "test_square_root()"
   ]
  },
  {
   "cell_type": "code",
   "execution_count": null,
   "metadata": {
    "collapsed": true
   },
   "outputs": [],
   "source": [
    ">>> def test_square_root():\n",
    "...     import math\n",
    "...     \n",
    "...     for a in range (1,10):\n",
    "...         print(a, end=' ')\n",
    "...         a = float(a)\n",
    "...         if a == 1:\n",
    "...            x = 1\n",
    "...         else:\n",
    "...            x = a-1\n",
    "...         y = x\n",
    "...         epsilon = 0.000001\n",
    "...         while y == x:\n",
    "...             y = (x + a/x) /2    \n",
    "...         \n",
    "...             if abs(y-x) < epsilon:\n",
    "...                     \n",
    "...                 print(x, end=' ')\n",
    "...                 \n",
    "...                 break\n",
    "...             x = y\n",
    "...         confirm = math.sqrt(a)\n",
    "...         print(confirm, end=' ')\n",
    "...         check = abs(confirm-y)\n",
    "...         print(check)\n",
    "...         \n",
    "... \n",
    ">>> test_square_root()\n",
    "1 1 1.0 0.0\n",
    "2 1.4142135623746899 1.4142135623730951 2.220446049250313e-16\n",
    "3 1.7320508100147274 1.7320508075688772 0.0\n",
    "4 2.0000000000262146 2.0 0.0\n",
    "5 2.2360679850099823 2.23606797749979 0.0\n",
    "6 2.4494899174113884 2.449489742783178 6.217248937900877e-15\n",
    "7 2.6457513110649575 2.6457513110645907 0.0\n",
    "8 2.8284271247531514 2.8284271247461903 4.440892098500626e-16\n",
    "9 3.000000000066165 3.0 0.0\n"
   ]
  },
  {
   "cell_type": "code",
   "execution_count": 37,
   "metadata": {
    "collapsed": false
   },
   "outputs": [],
   "source": [
    "import math\n",
    "\n",
    "def square_root(a):\n",
    "    # uses newtons method of aproximating square roots to find root of a\n",
    "    eps = 1e-10\n",
    "    x = a / 2\n",
    "    y = a\n",
    "    while (abs(y-x) > eps):\n",
    "        x = y\n",
    "        y = (x + a/x) / 2\n",
    "        #print(x)\n",
    "        #print(y)\n",
    "    return x\n",
    "\n",
    "\n",
    "def test_square_root():\n",
    "    for i in range(1,10):\n",
    "        print(i, end=' ')\n",
    "        foo = square_root(i)\n",
    "        foolen = 20 - len(str(foo))\n",
    "        foostr = str(foo) + ' ' * foolen\n",
    "        print(foostr, end=' ')\n",
    "        bar = math.sqrt(i)\n",
    "        barlen = 20 - len(str(bar))\n",
    "        barstr = str(bar) + ' ' * barlen\n",
    "        print(barstr, end=' ')\n",
    "        print(abs(foo - bar))\n",
    "\n",
    "test_square_root()"
   ]
  },
  {
   "cell_type": "code",
   "execution_count": 40,
   "metadata": {
    "collapsed": false
   },
   "outputs": [],
   "source": [
    "import math\n",
    "def test_square_root(tests):\n",
    "    for test in tests:\n",
    "        print(test, end = ' ')\n",
    "        t1 = square_root(test,100)\n",
    "        t2 = math.sqrt(test)\n",
    "        print(t1, end = ' ')\n",
    "        print(t2, end = ' ')\n",
    "        print(abs(t1-t2))\n",
    "        \n",
    "        \n",
    "test_square_root([1,2,3,4,5,6,7,8,9])"
   ]
  },
  {
   "cell_type": "code",
   "execution_count": 2,
   "metadata": {
    "collapsed": false
   },
   "outputs": [],
   "source": [
    "import math\n",
    "def square_root(a):\n",
    "    x = a\n",
    "    y = (x+a/x)/2\n",
    "    difference = 0.0000000001\n",
    "    while (x-y)>difference:\n",
    "        x = y\n",
    "        y = (x+a/x)/2\n",
    "    return x\n",
    "\n",
    "def test_square_root():\n",
    "    for i in range(1,10):\n",
    "        print(\"{:<4} {:<19} {:<19} {:<19}\".format(*[float(i),square_root(i),math.sqrt(i),square_root(i)-math.sqrt(i)]))\n",
    "        #print in the correct format\n",
    "        \n",
    "test_square_root()"
   ]
  },
  {
   "cell_type": "code",
   "execution_count": 81,
   "metadata": {
    "collapsed": false
   },
   "outputs": [],
   "source": [
    "def test_square_root():    \n",
    "    #interior function to calculate square roots\n",
    "    def square_root(a):\n",
    "        #declares x as variable\n",
    "        x = 3\n",
    "        while True:\n",
    "            root_a = (x + a/x)/2 #works to calculate a\n",
    "            #exits loop if root = calculated root\n",
    "            if root_a == x:\n",
    "                break\n",
    "            x = root_a\n",
    "        return(root_a)\n",
    "    \n",
    "    import math\n",
    "    count = 0\n",
    "    #calculate it for the first 9 integers\n",
    "    while count < 9:\n",
    "        count = count + 1\n",
    "        python_root = math.sqrt(count)\n",
    "        spaces1 = \" \"*(18-(len(str(square_root(count))))) #calculates number of spaces for first row\n",
    "        spaces2 = \" \"*(18-(len(str(python_root)))) #calculates number of spaces for second row\n",
    "        #prints out table\n",
    "        print(str(count) + \".0\", square_root(count), spaces1, python_root, spaces2, abs(python_root-square_root(count)))"
   ]
  },
  {
   "cell_type": "code",
   "execution_count": 31,
   "metadata": {
    "collapsed": false
   },
   "outputs": [],
   "source": [
    "import math\n",
    "\n",
    "a = 1\n",
    "\n",
    "def square_root(a):\n",
    "    x = 2\n",
    "    while True:\n",
    "        y = (x + a/x) / 2\n",
    "        if y == x:\n",
    "            break\n",
    "        x = y\n",
    "    return y\n",
    "\n",
    "def test_square_root(a):\n",
    "    while a < 10:\n",
    "        A = float(a)\n",
    "        column2 = square_root(a)\n",
    "        column3 = math.sqrt(a)\n",
    "        column4 = abs(column3 - column2)\n",
    "        print(A, column2, column3, column4)\n",
    "        a = a + 1\n",
    "        \n",
    "test_square_root(a)\n"
   ]
  },
  {
   "cell_type": "code",
   "execution_count": 55,
   "metadata": {
    "collapsed": false
   },
   "outputs": [],
   "source": [
    "import math\n",
    "\n",
    "def test_square_root(a):\n",
    "    while a != 10:\n",
    "        b = math.sqrt(a)\n",
    "        \n",
    "        x =2\n",
    "        while True: \n",
    "            y = (x+ (a/x))/2\n",
    "            if y == x:\n",
    "                break\n",
    "            x = y\n",
    "        c = abs(b-x)\n",
    "        print(a,', ',b,', ',x,', ',c)\n",
    "        a = a+1\n",
    "    else:\n",
    "        print('Done!')\n",
    "    \n",
    "print(test_square_root(4))"
   ]
  },
  {
   "cell_type": "code",
   "execution_count": 23,
   "metadata": {
    "collapsed": false
   },
   "outputs": [],
   "source": [
    "import math\n",
    "def test_square_root(x):\n",
    "    x = float(x)\n",
    "    counter = 1.0\n",
    "    while counter <= x:\n",
    "        string = str(counter) + ' ' + str(square_root(counter)) + ' '*(20-len(str(square_root(counter))))\n",
    "        string = string + str(math.sqrt(counter)) + ' '*(20-len(str(math.sqrt(counter))))\n",
    "        string = string + str(abs(square_root(counter)-math.sqrt(counter)))\n",
    "        print(string)\n",
    "        counter = counter + 1\n",
    "\n",
    "def square_root(a):\n",
    "    z = a/2    \n",
    "    while True:\n",
    "        y = (z + a/z)/2\n",
    "        if y == z:\n",
    "            break\n",
    "        z = y\n",
    "    return z\n",
    "        \n",
    "    \n",
    "test_square_root(9)"
   ]
  },
  {
   "cell_type": "code",
   "execution_count": null,
   "metadata": {
    "collapsed": false
   },
   "outputs": [],
   "source": [
    "import math\n",
    "\n",
    "def square_root(a):\n",
    "    epsilon = 0.0000001\n",
    "\n",
    "    if a <= 100:\n",
    "        x = 10\n",
    "    elif a > 100 and a <= 400:\n",
    "        x = 11\n",
    "    elif a > 400 and a <= 900:\n",
    "        x = 21\n",
    "    elif a > 900 and a <= 1600:\n",
    "        x = 31\n",
    "    elif a > 1600 and a <= 2500:\n",
    "        x = 41\n",
    "    elif a > 2500 and a <= 3600:\n",
    "        x = 51\n",
    "    elif a > 3600 and a <= 4900:\n",
    "        x = 61\n",
    "    elif a > 4900 and a < 6400:\n",
    "        x = 71\n",
    "    elif a > 6400 and a <= 8100:\n",
    "        x = 81\n",
    "    elif a > 8100 and a <= 10000:\n",
    "        x = 91\n",
    "    else:\n",
    "        x = 101\n",
    "\n",
    "    while True:\n",
    "        y = (x + a/x) / 2\n",
    "        if abs(y-x) < epsilon:\n",
    "            break\n",
    "        x = y\n",
    "\n",
    "    return y\n",
    "\n",
    "\n",
    "def test_square_root():\n",
    "    n = 1.0\n",
    "\n",
    "    while n < 10:\n",
    "        print(n, end=' ')\n",
    "        comp = square_root(n)\n",
    "        print(comp, end=' ')\n",
    "        if len(str(comp)) < 18:\n",
    "            print(' ' * (17 - len(str(comp))), end=' ')\n",
    "        act = math.sqrt(n)\n",
    "        print(act, end=' ')\n",
    "        if len(str(act)) < 18:\n",
    "            print(' ' * (17 - len(str(act))), end=' ')\n",
    "        ab = abs(act-comp)\n",
    "        print(ab)\n",
    "\n",
    "        n = n+1\n",
    "        \n",
    "test_square_root()"
   ]
  },
  {
   "cell_type": "code",
   "execution_count": null,
   "metadata": {
    "collapsed": false
   },
   "outputs": [],
   "source": [
    "import math\n",
    "\n",
    "def square_root(a):\n",
    "    x = 3\n",
    "    while True:\n",
    "        y = (x + a/x) / 2\n",
    "        if y == x:\n",
    "            break\n",
    "        x = y\n",
    "    return y\n",
    "            \n",
    "            \n",
    "def table(max_num):\n",
    "    a = 1\n",
    "    while a <= max_num:\n",
    "        q = a\n",
    "        w = square_root(a)\n",
    "        e = math.sqrt(a)\n",
    "        r = square_root(a)-abs(math.sqrt(a))\n",
    "        a = a+1\n",
    "        print('{0:20f}{1:20f}{2:20f}{3:20f}'.format(q,w,e,r))\n",
    "\n",
    "table(9)\n",
    "    "
   ]
  },
  {
   "cell_type": "code",
   "execution_count": 26,
   "metadata": {
    "collapsed": false
   },
   "outputs": [],
   "source": [
    "def square_root(a):\n",
    "    x=2\n",
    "    epsilon= 0.0000000001\n",
    "    while True:\n",
    "        print(x)\n",
    "        y = (x + a/x) / 2\n",
    "        if abs(y-x) < epsilon:\n",
    "            break\n",
    "        x = y\n",
    "def comp_table():\n",
    "    comp_tables=[[0 for j in range(9)] for i in range(4)]\n",
    "    \n",
    "def abs_dif():\n",
    "    import math\n",
    "    comp_table()\n",
    "    for i in (1, 9):\n",
    "        comp_tables[i, 1]=i\n",
    "        comp_tables[i, 2]=square_root(i)\n",
    "        comp_tables[i, 3]=math.sqrt(i)\n",
    "        comp_tables[i, 4]= abs(square_root(i)-math.sqrt(i)\n",
    "    print (*comp_tables)                            \n",
    "                            \n",
    "                               \n",
    "There's something wrong with this but I've already spent a half hour trying to debug the different functions. I think it has to do with printing an array. It gave me an error when I tried to print the original array.                       \n",
    "                             \n",
    "                              "
   ]
  },
  {
   "cell_type": "code",
   "execution_count": 18,
   "metadata": {
    "collapsed": false
   },
   "outputs": [],
   "source": [
    "import math\n",
    "def test_square_root(num):\n",
    "    me = square_root(num)\n",
    "    them = math.sqrt(num)\n",
    "    dif = absolute_value(me-them)\n",
    "    print(str(num) + \" \" + str(me) + \" \" + str(them) + \" \" + str(dif))\n",
    "\n",
    "test_square_root(8)"
   ]
  },
  {
   "cell_type": "code",
   "execution_count": 2,
   "metadata": {
    "collapsed": false
   },
   "outputs": [],
   "source": [
    "import math\n",
    "\n",
    "def square_root_est(a):\n",
    "    x = a\n",
    "    y = (x + x/a) / 2\n",
    "    return y\n",
    "\n",
    "def test_square_root():\n",
    "    for i in range (1,9):\n",
    "        est = square_root_est(i)\n",
    "        sqrt = math.sqrt(i)\n",
    "        print(i, est, sqrt, abs(est - sqrt))\n",
    "        \n",
    "        \n",
    "test_square_root()"
   ]
  },
  {
   "cell_type": "code",
   "execution_count": null,
   "metadata": {
    "collapsed": true
   },
   "outputs": [],
   "source": [
    "def test_square_root():\n",
    "   i = 1.0\n",
    "   while i < 10.0:\n",
    "      estimate = square_root(i,i)\n",
    "      sqrt = math.sqrt(i)\n",
    "      print i, ' '*3, estimate,' '*(13-len(str(estimate))), sqrt,' '*(13-len(str(sqrt))), sqrt-estimate\n",
    "      i = i+1.0"
   ]
  },
  {
   "cell_type": "code",
   "execution_count": null,
   "metadata": {
    "collapsed": true
   },
   "outputs": [],
   "source": [
    ">>> import math\n",
    ">>> def test_square_root(i):\n",
    "...     top=i+10\n",
    "...     while i<top:\n",
    "...             my=square_root(i)\n",
    "...             their=math.sqrt(i)\n",
    "...             diff=abs(my-their)\n",
    "...             print(i,' ',my,' ',their,' ',diff)\n",
    "...             i+=1\n",
    "\n",
    ">>> test_square_root(1.0)\n",
    "1.0   1.0   1.0   0.0\n",
    "2.0   1.414213562373095   1.4142135623730951   2.220446049250313e-16\n",
    "3.0   1.7320508075688772   1.7320508075688772   0.0\n",
    "4.0   2.0   2.0   0.0\n",
    "5.0   2.23606797749979   2.23606797749979   0.0\n",
    "6.0   2.449489742783178   2.449489742783178   0.0\n",
    "7.0   2.6457513110645907   2.6457513110645907   0.0\n",
    "8.0   2.82842712474619   2.8284271247461903   4.440892098500626e-16\n",
    "9.0   3.0   3.0   0.0\n",
    "10.0   3.162277660168379   3.1622776601683795   4.440892098500626e-16"
   ]
  },
  {
   "cell_type": "code",
   "execution_count": 19,
   "metadata": {
    "collapsed": false
   },
   "outputs": [],
   "source": [
    "a = 1\n",
    "x = a/3\n",
    "def squareRoot(a,x):\n",
    "    epsilon = 0.000000000001\n",
    "    while True:\n",
    "        y = (x + a/x) /2\n",
    "        if abs(y-x) < epsilon:\n",
    "            break\n",
    "        x = y\n",
    "    print(a,x,math.sqrt(a),abs(x-math.sqrt(a)))\n",
    "\n",
    "while a < 10:\n",
    "    squareRoot(a,x)\n",
    "    a = a+1\n",
    "    x = a/3\n",
    "\n"
   ]
  },
  {
   "cell_type": "code",
   "execution_count": 5,
   "metadata": {
    "collapsed": false
   },
   "outputs": [],
   "source": [
    "import math\n",
    "\n",
    "b = 1.0\n",
    "while b<10.0:\n",
    "    init_b = b\n",
    "    est = square_root(b)\n",
    "    calc = math.sqrt(b)\n",
    "    diff = abs(calc-est)\n",
    "    print(init_b, est, calc, diff)\n",
    "    b = b+1\n",
    "    \n",
    "    "
   ]
  },
  {
   "cell_type": "code",
   "execution_count": 64,
   "metadata": {
    "collapsed": false
   },
   "outputs": [],
   "source": [
    "def test_square_root(a,b,c,d,e,f,g,h,i):\n",
    "    import math\n",
    "    z=float(a)\n",
    "    y=float(square_root(a))\n",
    "    x=float(math.sqrt(a))\n",
    "    print(z,y,\" \"*9, x,\" \"*9,x-y)\n",
    "    z=float(b)\n",
    "    y=float(square_root(b))\n",
    "    x=float(math.sqrt(b))\n",
    "    print(z,format(y,'.11f'),format(x,'.11f'),x-y)\n",
    "    z=float(c)\n",
    "    y=float(square_root(c))\n",
    "    x=float(math.sqrt(c))\n",
    "    print(z,format(y,'.11f'),format(x,'.11f'),x-y)\n",
    "    z=float(d)\n",
    "    y=float(square_root(d))\n",
    "    x=float(math.sqrt(d))\n",
    "    print(z,y,\" \"*9, x,\" \"*9,x-y)\n",
    "    z=float(e)\n",
    "    y=float(square_root(e))\n",
    "    x=float(math.sqrt(e))\n",
    "    print(z,format(y,'.11f'),format(x,'.11f'),x-y)\n",
    "    z=float(f)\n",
    "    y=float(square_root(f))\n",
    "    x=float(math.sqrt(f))\n",
    "    print(z,format(y,'.11f'),format(x,'.11f'),x-y)\n",
    "    z=float(g)\n",
    "    y=float(square_root(g))\n",
    "    x=float(math.sqrt(g))\n",
    "    print(z,format(y,'.11f'),format(x,'.11f'),x-y)\n",
    "    z=float(h)\n",
    "    y=float(square_root(h))\n",
    "    x=float(math.sqrt(h))\n",
    "    print(z,format(y,'.11f'),format(x,'.11f'),x-y)\n",
    "    z=float(i)\n",
    "    y=float(square_root(i))\n",
    "    x=float(math.sqrt(i))\n",
    "    print(z,y,\" \"*9, x,\" \"*9,x-y)\n",
    "test_square_root(1,2,3,4,5,6,7,8,9)"
   ]
  },
  {
   "cell_type": "code",
   "execution_count": 32,
   "metadata": {
    "collapsed": false
   },
   "outputs": [],
   "source": [
    "import math\n",
    "\n",
    "def absolute_value(x):\n",
    "    if x < 0:\n",
    "        return -x\n",
    "    if x >= 0:\n",
    "        return x\n",
    "\n",
    "def test_square_root():\n",
    "    for a in range(1, 10):\n",
    "        x = a/(a/2)\n",
    "        for i in range(10):\n",
    "            x = ((x + a/x)/2)\n",
    "            \n",
    "        c = math.sqrt(a)\n",
    "        d = absolute_value(x - c)\n",
    "        print(a, x, c, d)"
   ]
  },
  {
   "cell_type": "code",
   "execution_count": 1,
   "metadata": {
    "collapsed": false
   },
   "outputs": [],
   "source": [
    "def test_square_root(a):\n",
    "    x = a\n",
    "    while True:\n",
    "        y = (x + (a/x)) / 2\n",
    "        if y == x:\n",
    "            return y\n",
    "        x = y"
   ]
  },
  {
   "cell_type": "code",
   "execution_count": null,
   "metadata": {
    "collapsed": false
   },
   "outputs": [],
   "source": [
    "def test_square_root(n):\n",
    "   print('n')\n",
    "\n",
    "test_square_root(9)"
   ]
  },
  {
   "cell_type": "code",
   "execution_count": 75,
   "metadata": {
    "collapsed": false
   },
   "outputs": [],
   "source": [
    "import math\n",
    "\n",
    "a1 = square_root(1.0)\n",
    "a2 = math.sqrt(1.0)\n",
    "a3 = a1-a2\n",
    "print('1.0', a1, '              ', a2, '              ', abs(a3))\n",
    "\n",
    "a1 = square_root(2.0)\n",
    "a2 = math.sqrt(2.0)\n",
    "a3 = a1-a2\n",
    "print('2.0', a1, '', a2, abs(a3))\n",
    "\n",
    "a1 = square_root(3.0)\n",
    "a2 = math.sqrt(3.0)\n",
    "a3 = a1-a2\n",
    "print('3.0', a1, a2, abs(a3))\n",
    "\n",
    "a1 = square_root(4.0)\n",
    "a2 = math.sqrt(4.0)\n",
    "a3 = a1-a2\n",
    "print('4.0', a1, '              ', a2, '              ', abs(a3))\n",
    "\n",
    "a1 = square_root(5.0)\n",
    "a2 = math.sqrt(5.0)\n",
    "a3 = a1-a2\n",
    "print('5.0', a1, ' ', a2, ' ', abs(a3))\n",
    "\n",
    "a1 = square_root(6.0)\n",
    "a2 = math.sqrt(6.0)\n",
    "a3 = a1-a2\n",
    "print('6.0', a1, '', a2, '', abs(a3))\n",
    "\n",
    "a1 = square_root(7.0)\n",
    "a2 = math.sqrt(7.0)\n",
    "a3 = a1-a2\n",
    "print('7.0', a1, a2, abs(a3))\n",
    "\n",
    "a1 = square_root(8.0)\n",
    "a2 = math.sqrt(8.0)\n",
    "a3 = a1-a2\n",
    "print('8.0', a1, ' ', a2, abs(a3))\n",
    "\n",
    "a1 = square_root(9.0)\n",
    "a2 = math.sqrt(9.0)\n",
    "a3 = a1-a2\n",
    "print('9.0', a1, '              ', a2, '              ', abs(a3))"
   ]
  },
  {
   "cell_type": "code",
   "execution_count": 32,
   "metadata": {
    "collapsed": false
   },
   "outputs": [],
   "source": [
    "from math import sqrt, floor\n",
    "def square_root(a):\n",
    "    if(a == 0):\n",
    "        return 0\n",
    "    elif(a < 0):\n",
    "        raise ArithmeticError(\"Can't square root negatives\")\n",
    "    \n",
    "    x = a/2\n",
    "    while True:\n",
    "        y = (x + a/x) / 2\n",
    "        if(abs(y - x) < .000000000001):\n",
    "            return x\n",
    "        x = y\n",
    "        \n",
    "        \n",
    "for i in range(9):\n",
    "    print(\"{:d} {:1.9f} {:1.9f} {:1.9f} \".format(i, square_root(i), sqrt(i), abs(square_root(i) - sqrt(i))))"
   ]
  },
  {
   "cell_type": "code",
   "execution_count": 30,
   "metadata": {
    "collapsed": false
   },
   "outputs": [],
   "source": [
    "import math\n",
    "\n",
    "def test_square_root():\n",
    "    i = 1\n",
    "    while i <= 5:\n",
    "        print(float(i), my_root(i), math.sqrt(i), abs(my_root(i)-math.sqrt(i)))\n",
    "        i = i+1\n",
    "\n",
    "def my_root(a):\n",
    "    x = a/4\n",
    "    epsilon = .000000000000001\n",
    "    while True:\n",
    "        y = (x + a/x)/2\n",
    "        if abs(y-x) < epsilon:\n",
    "            return x \n",
    "            break \n",
    "        x = y\n",
    "\n",
    "test_square_root()"
   ]
  },
  {
   "cell_type": "code",
   "execution_count": 40,
   "metadata": {
    "collapsed": false
   },
   "outputs": [],
   "source": [
    "import math\n",
    "def square_root(a):\n",
    "    x = a/5\n",
    "    while True:\n",
    "        \n",
    "        y =(x + a/x) / 2\n",
    "        if  y == x:\n",
    "            return x\n",
    "        x = y\n",
    "def test_square_root():\n",
    "    for i in range(1,9):\n",
    "        endSpace = str(i) + ' '+str(square_root(i))\n",
    "        endSpace = endSpace + ' ' * (20-len(str(square_root(i))))+str(math.sqrt(i))+' ' * (20-len(str(math.sqrt(i))))\n",
    "        endSpace = endSpace + str(math.fabs(square_root(i)-math.sqrt(i)))\n",
    "        print(endSpace)\n",
    "test_square_root()"
   ]
  },
  {
   "cell_type": "code",
   "execution_count": 20,
   "metadata": {
    "collapsed": false
   },
   "outputs": [],
   "source": [
    "#this is for testing my square root estimator\n",
    "import math\n",
    "def test_square_root():\n",
    "    #first I take a range of values for a:\n",
    "    for a in range(10):\n",
    "        my_func = square_root(a)\n",
    "        math_func = math.sqrt(a)\n",
    "        diff = my_func - math_func\n",
    "        print(a, my_func, math_func, diff)\n",
    "        \n",
    "test_square_root()"
   ]
  },
  {
   "cell_type": "code",
   "execution_count": 11,
   "metadata": {
    "collapsed": false
   },
   "outputs": [],
   "source": [
    "import math\n",
    "'''function test_square_root\n",
    "arguments: none\n",
    "returns: none\n",
    "see: chart comparing square root algorithm to math.sqrt function\n",
    "'''\n",
    "\n",
    "def test_square_root():\n",
    "    '''function space: takes a number and a string, then returns \n",
    "    the number of spaces necessary for the string to be number \n",
    "    characters long.\n",
    "    arguments:\n",
    "    - str: string for which to find extra spaces\n",
    "    - maxlen: integer value to represent total number of characters\n",
    "    returns:\n",
    "    - number of spaces to make str maxlen long'''\n",
    "    def space(str,maxlen):\n",
    "        spaces = maxlen-len(str)\n",
    "        return spaces\n",
    "    \n",
    "    range = [1,2,3,4,5,6,7,8,9]\n",
    "    for i in range:\n",
    "        \n",
    "        # Calculate columns\n",
    "        temp = str(i)\n",
    "        col1 = temp + \" \"*space(temp,2)\n",
    "        temp = str(square_root(i))\n",
    "        col2 = temp + \" \"*space(temp,18)\n",
    "        temp = str(math.sqrt(i))\n",
    "        col3 = temp + \" \"*space(temp,18)\n",
    "        temp = str(abs(math.sqrt(i)-square_root(i)))\n",
    "        col4 = temp + \" \"*space(temp,22)\n",
    "        \n",
    "        # Print out line\n",
    "        print(col1,\"|\",col2,\"|\",col3,\"|\",col4)\n",
    "\n",
    "test_square_root()"
   ]
  },
  {
   "cell_type": "code",
   "execution_count": 6,
   "metadata": {
    "collapsed": false
   },
   "outputs": [],
   "source": [
    "import math\n",
    "\n",
    "def square_root(a):\n",
    "    epsilon = 0.0000001 #very small number used for float number comparison\n",
    "    x = 1.0 #making it integer 1 won't work because dividing by 0\n",
    "    while True:\n",
    "        y = (x + a/x) / 2\n",
    "        if abs(y-x) < epsilon:\n",
    "            return y\n",
    "            break\n",
    "        x = y\n",
    "\n",
    "def test_square_root():\n",
    "    n = 1.0\n",
    "    while (n < 10):\n",
    "        first_column = n\n",
    "        second_column = square_root(n)\n",
    "        third_column = math.sqrt(n)\n",
    "        fourth_column = abs(math.sqrt(n) - square_root(n))\n",
    "        print (\"{:<10}{:<20}{:<20}{:<10}\".format(*[first_column,second_column,third_column,fourth_column]))\n",
    "        #print format help from Yichen Jiang!\n",
    "        n = n + 1\n",
    "        \n",
    "test_square_root()"
   ]
  },
  {
   "cell_type": "code",
   "execution_count": 12,
   "metadata": {
    "collapsed": false
   },
   "outputs": [],
   "source": [
    "import math\n",
    "def test_square_root():\n",
    "    a = 1\n",
    "    while a <= 9:\n",
    "        square_root(a)\n",
    "        math.sqrt(a)\n",
    "        y= math.sqrt(a)\n",
    "        d = abs(x-y)\n",
    "        print(a,' ', x, ' ', y, ' ', d)\n",
    "\n",
    "test_square_root()"
   ]
  },
  {
   "cell_type": "code",
   "execution_count": 38,
   "metadata": {
    "collapsed": false
   },
   "outputs": [],
   "source": [
    "import math\n",
    "\n",
    "def square_root(a):\n",
    "    x = a/2;\n",
    "    while True:\n",
    "        y = (x + a/x)/2\n",
    "        if abs(y-x) < 0.00000001:\n",
    "            return y\n",
    "            break\n",
    "        x = y\n",
    "        \n",
    "def test_square_root(n):\n",
    "    for p in range(1,n+1):\n",
    "        q = square_root(p)\n",
    "        r = math.sqrt(p)\n",
    "        s = abs(q-r)\n",
    "        print(p, q, r, s)\n",
    "        \n",
    "test_square_root(9)"
   ]
  },
  {
   "cell_type": "code",
   "execution_count": 1,
   "metadata": {
    "collapsed": false
   },
   "outputs": [],
   "source": [
    "import math\n",
    "\n",
    "def square_root(a):\n",
    "    x = a/2\n",
    "    epsilon=0.0000001\n",
    "    while True:\n",
    "        y = (x + (a/x))/2\n",
    "        if abs(y-x) < epsilon:\n",
    "            break\n",
    "        x = y\n",
    "    return y\n",
    "        \n",
    "def test_square_root():\n",
    "    a = 1\n",
    "    \n",
    "    while a < 10:\n",
    "        print(a, end = ' ')\n",
    "        y = square_root(a)\n",
    "        print(y, end = ' ')\n",
    "        if len(str(y)) < 18:\n",
    "            print(' '*(17 - len(str(y))), end = ' ')\n",
    "        root = math.sqrt(a)\n",
    "        print(root, end = ' ')\n",
    "        if len(str(root)) < 18:\n",
    "            print(' '*(17 - len(str(root))), end = ' ')\n",
    "        diff = abs(y - root)\n",
    "        print(diff)\n",
    "        a = a + 1\n",
    "        \n",
    "test_square_root()   "
   ]
  }
 ],
 "metadata": {
  "anaconda-cloud": {},
  "kernelspec": {
   "display_name": "Python [default]",
   "language": "python",
   "name": "python3"
  },
  "language_info": {
   "codemirror_mode": {
    "name": "ipython",
    "version": 3
   },
   "file_extension": ".py",
   "mimetype": "text/x-python",
   "name": "python",
   "nbconvert_exporter": "python",
   "pygments_lexer": "ipython3",
   "version": "3.5.2"
  }
 },
 "nbformat": 4,
 "nbformat_minor": 0
}
