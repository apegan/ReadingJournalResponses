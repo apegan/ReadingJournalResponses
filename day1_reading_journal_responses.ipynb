{
 "cells": [
  {
   "cell_type": "markdown",
   "metadata": {},
   "source": [
    "# Day 1 Reading Journal – Responses"
   ]
  },
  {
   "cell_type": "markdown",
   "metadata": {
    "is_question": true
   },
   "source": [
    "### Exercise 1.4\n",
    "\n",
    "Start the Python interpreter and use it as a simple calculator. Python’s syntax for math operations is almost the same as standard mathematical notation. For example, the symbols +, - and / denote addition, subtraction and division, as you would expect. The symbol for multiplication is *\n",
    "\n",
    "* How many seconds are there in 42 minutes 42 seconds?\n",
    "* How many miles are there in 10 kilometers? Hint: there are 1.61 kilometers in a mile.\n",
    "* If you run a 10 kilometer race in 42 minutes 42 seconds, what is your average pace (time per mile in minutes and seconds)? What is your average speed in miles per hour?\n",
    "\n",
    "Please use the following markdown cell to provide your answers."
   ]
  },
  {
   "cell_type": "code",
   "execution_count": null,
   "metadata": {
    "collapsed": false,
    "scrolled": false
   },
   "outputs": [],
   "source": [
    "2562 seconds;\n",
    "6.2 miles;\n",
    "413.2 seconds / mile = 6 minutes, 52 seconds / mile. Average speed = 8.71 mph;\n",
    "\n",
    "#This is technically not Python code so this cell won't run due to invalid syntax. \n",
    "#Use comments to add clarifying text to your code"
   ]
  },
  {
   "cell_type": "code",
   "execution_count": null,
   "metadata": {
    "collapsed": false
   },
   "outputs": [],
   "source": [
    "#First question\n",
    "(42*60)+42\n",
    "\n",
    "#Second question\n",
    "# 1 mile = 1.61 km\n",
    "# x miles = 10 km\n",
    "10/1.61\n",
    "\n",
    "#Third question\n",
    "# pace in mins per mile\n",
    "((42*60+42)/60)/(10/1.61)\n",
    "\n",
    "#Third question\n",
    "# speed in miles per hour\n",
    "# d = r * t\n",
    "(10/1.61)/((42*60+42)/3600)\n"
   ]
  },
  {
   "cell_type": "code",
   "execution_count": null,
   "metadata": {
    "collapsed": false
   },
   "outputs": [],
   "source": [
    "print ((42*60) + 42) #number of seconds\n",
    "print (10/1.61) #miles in 10 kilometers\n",
    "print ((42 + (42/60))/(10/1.61)) #minutes per mile\n",
    "print ((42*60 + 42)/(10/1.61)) #seconds per mile\n",
    "print ((10/1.61)/((42/60) +(42/3600))) #miles per hour\n"
   ]
  },
  {
   "cell_type": "markdown",
   "metadata": {},
   "source": [
    "  "
   ]
  },
  {
   "cell_type": "code",
   "execution_count": null,
   "metadata": {
    "collapsed": false
   },
   "outputs": [],
   "source": [
    "print((42*60)+42, 10/1.61, ((2562/6.2111)/60)-.874788684774034,.874788684774034*60,6.2111/((2562/60)/60))\n",
    "\n",
    "#Try to keep each line of code under 80 characters long, it is easier to debug that way"
   ]
  },
  {
   "cell_type": "code",
   "execution_count": null,
   "metadata": {
    "collapsed": false
   },
   "outputs": [],
   "source": [
    "print(42*60+42)\n",
    "print(10*1.61)\n",
    "print(2562/16.1)\n",
    "print(2562/(60*60))"
   ]
  },
  {
   "cell_type": "markdown",
   "metadata": {},
   "source": [
    "  "
   ]
  },
  {
   "cell_type": "code",
   "execution_count": null,
   "metadata": {
    "collapsed": false
   },
   "outputs": [],
   "source": [
    "print('Seconds in 42min 42sec:', 42*60+42)   \n",
    "\n",
    "print('Miles in 10km:', round(10/1.61, 2))\n",
    "\n",
    "(2562/6.21/60) \n",
    "(.88*60)\n",
    "#These operations are done in place and not stored. Set them equal to a variable to use again in other places\n",
    "\n",
    "print('Average pace is 6:53 per mile')\n",
    "\n",
    "(6.21/(2562/3600))\n",
    "print('Average Speed:', 8.7, 'mph')"
   ]
  },
  {
   "cell_type": "code",
   "execution_count": null,
   "metadata": {
    "collapsed": false
   },
   "outputs": [],
   "source": [
    "seconds = 42+(42*60)\n",
    "print('42 minutes and 42 seconds is ', seconds, ' seconds.')\n",
    "\n",
    "km = 10\n",
    "miles = km/1.61\n",
    "print('There are ','{:.2f}'.format(miles),' miles in 10 km.')\n",
    "\n",
    "avg_pace = seconds/miles\n",
    "pace_min = int(avg_pace/60)\n",
    "pace_sec = int(avg_pace%60)\n",
    "print('Average pace is ', pace_min,' minutes and ',pace_sec, \\\n",
    "      ' seconds per mile..')\n",
    "\n",
    "avg_speed = miles*(3600/seconds)\n",
    "print('Average speed is ','{:.2f}'.format(avg_speed),' miles per hour.')"
   ]
  },
  {
   "cell_type": "markdown",
   "metadata": {
    "is_question": true
   },
   "source": [
    "### Exercise\n",
    "\n",
    "Assume that we execute the following assignment statements:\n",
    "\n",
    "```\n",
    "width = 17\n",
    "height = 12.0\n",
    "delimiter = '.'\n",
    "```\n",
    "\n",
    "For each of the following expressions, write the value of the expression and the type (of the value of the expression).\n",
    "\n",
    "Example: `width * 2` <br/>\n",
    "Answer: 34, integer\n",
    "\n",
    "1. `width/2`\n",
    "2. `width/2.0`\n",
    "3. `height/3`\n",
    "4. `1 + 2 * 5`\n",
    "5. `delimiter * 5`\n",
    "\n",
    "Please use the following markdown cell to provide your answer."
   ]
  },
  {
   "cell_type": "code",
   "execution_count": null,
   "metadata": {
    "collapsed": false
   },
   "outputs": [],
   "source": [
    "width = 17\n",
    "height = 12.0\n",
    "delimiter = '.'\n",
    "\n",
    "print(width/2)     #float\n",
    "print(width/2.0)   #float\n",
    "print(height/3)    #float\n",
    "print(1 + 2 * 5)   #integer\n",
    "delimiter * 5      #string"
   ]
  },
  {
   "cell_type": "code",
   "execution_count": null,
   "metadata": {
    "collapsed": false
   },
   "outputs": [],
   "source": [
    "width = 17\n",
    "height = 12.0\n",
    "delimiter = '.'\n",
    "\n",
    "one = width/2\n",
    "print(one,'int')\n",
    "\n",
    "two = width / 2.0\n",
    "print(two,'float')\n",
    "\n",
    "three = height/3\n",
    "print(three, 'float')\n",
    "\n",
    "four = 1+2*5\n",
    "print(four, 'int')\n",
    "\n",
    "five = delimiter*5\n",
    "print(five,'str')\n"
   ]
  },
  {
   "cell_type": "code",
   "execution_count": null,
   "metadata": {
    "collapsed": false
   },
   "outputs": [],
   "source": [
    "width = 17\n",
    "height = 12.0\n",
    "delimiter = '.'\n",
    "\n",
    "print(width/2, 'float')\n",
    "print(width/2.0, 'float')\n",
    "print(height/3, 'float')\n",
    "print(1+2*5, 'integer')\n",
    "print(delimiter *5, 'string')"
   ]
  },
  {
   "cell_type": "code",
   "execution_count": null,
   "metadata": {
    "collapsed": false
   },
   "outputs": [],
   "source": [
    "width = 17\n",
    "height = 12.0\n",
    "delimiter = '.'\n",
    "\n",
    "def getType(thing):\n",
    "    thingType = str(type(thing))\n",
    "    thingType = thingType[8:-2]\n",
    "    return thingType\n",
    "\n",
    "answer1 = width / 2\n",
    "answer2 = width / 2.0\n",
    "answer3 = height / 3\n",
    "answer4 = 1 + 2 * 5\n",
    "answer5 = delimiter * 5\n",
    "\n",
    "print('Answer 1: ' + str(answer1) + ', ' + getType(answer1))\n",
    "print('Answer 2: ' + str(answer2) + ', ' + getType(answer2))\n",
    "print('Answer 3: ' + str(answer3) + ', ' + getType(answer3))\n",
    "print('Answer 4: ' + str(answer4) + ', ' + getType(answer4))\n",
    "print('Answer 5: ' + str(answer5) + ', ' + getType(answer5))\n"
   ]
  },
  {
   "cell_type": "code",
   "execution_count": null,
   "metadata": {
    "collapsed": false
   },
   "outputs": [],
   "source": [
    "width = 17\n",
    "height = 12.0\n",
    "delimiter = '.'\n",
    "\n",
    "a1 = width/2\n",
    "a2 = width/2.0\n",
    "a3 = height/3\n",
    "a4 = 1+2*5\n",
    "a5 = delimiter*5\n",
    "\n",
    "print(str(a1)+ ', ' + str(type(a1)))\n",
    "print(str(a2)+ ', ' + str(type(a2)))\n",
    "print(str(a3)+ ', ' + str(type(a3)))\n",
    "print(str(a4)+ ', ' + str(type(a4)))\n",
    "print(str(a5)+ ', ' + str(type(a5)))"
   ]
  },
  {
   "cell_type": "code",
   "execution_count": null,
   "metadata": {
    "collapsed": false
   },
   "outputs": [],
   "source": [
    "width = 17\n",
    "height = 12.0\n",
    "delimiter = '.'\n",
    "\n",
    "val1=width/2\n",
    "val2=width/2.0\n",
    "val3=height/3\n",
    "val4=1+2*5\n",
    "val5=delimiter*5\n",
    "\n",
    "print('1. ', val1, ' Type: ', type(val1))\n",
    "print('2. ', val2, ' Type: ', type(val2))\n",
    "print('3. ', val3, ' Type: ', type(val3))\n",
    "print('4. ', val4, ' Type: ', type(val4))\n",
    "print('5. ', val5, ' Type: ', type(val5))"
   ]
  },
  {
   "cell_type": "markdown",
   "metadata": {
    "is_question": true
   },
   "source": [
    "### Exercise 3.1\n",
    "\n",
    "Write a function named `right_justify` that takes a string named s as a parameter and prints the string with enough leading spaces so that the last letter of the string is in column 70 of the display.\n",
    "\n",
    "```\n",
    ">>> right_justify('monty')\n",
    "                                                                 monty\n",
    "```\n",
    "Hint: Use string concatenation and repetition. Also, Python provides a built-in function called `len` that returns the length of a string, so the value of `len('monty')` is 5."
   ]
  },
  {
   "cell_type": "code",
   "execution_count": null,
   "metadata": {
    "collapsed": false
   },
   "outputs": [],
   "source": [
    "def right_justify(s):\n",
    "    print(' '*(70 - len(s)) + s)\n",
    "    \n",
    "right_justify('monty')"
   ]
  },
  {
   "cell_type": "code",
   "execution_count": null,
   "metadata": {
    "collapsed": false
   },
   "outputs": [],
   "source": [
    "def right_justify(s):\n",
    "    length = len('s')\n",
    "    spaces_need = 70 - length\n",
    "    print(' '*spaces_need+s)\n",
    "    \n",
    "right_justify('monty')"
   ]
  },
  {
   "cell_type": "code",
   "execution_count": null,
   "metadata": {
    "collapsed": false
   },
   "outputs": [],
   "source": [
    "def right_justify(s, columnLen=70):\n",
    "    spacingNum = columnLen - len(s)\n",
    "    return \" \" * spacingNum + s\n",
    "\n",
    "print(right_justify(\"hi\"))\n",
    "\n",
    "#Because this right_justify returns a value, it has to be printed"
   ]
  },
  {
   "cell_type": "code",
   "execution_count": 5,
   "metadata": {
    "collapsed": false
   },
   "outputs": [
    {
     "name": "stdout",
     "output_type": "stream",
     "text": [
      "                                                                 monty\n"
     ]
    }
   ],
   "source": [
    "def right_justify (s):\n",
    "    # this function takes a string and right justifies it to column 70\n",
    "    s = str(s)\n",
    "    length = len(s)\n",
    "    leading = 70 - length\n",
    "    for x in range(leading):\n",
    "        s = ' ' + s # simpler to do s + leading * ' ', but this allows for returning s if desired\n",
    "    print(s)\n",
    "    return\n",
    "\n",
    "right_justify('monty')\n",
    "\n",
    "#Because the word is printed in the function, we don't really need that return statement"
   ]
  },
  {
   "cell_type": "code",
   "execution_count": 3,
   "metadata": {
    "collapsed": false
   },
   "outputs": [
    {
     "name": "stdout",
     "output_type": "stream",
     "text": [
      "                                                          perambulator\n"
     ]
    }
   ],
   "source": [
    "def right_justify(s,j):\n",
    "    \"\"\"\n",
    "    prints out string s justified to the right j characters\n",
    "    \n",
    "    s: string to right justify (string)\n",
    "    j: distance to right justify (integer)\n",
    "    \"\"\"\n",
    "    l = len(s)\n",
    "    space = j - l\n",
    "    print(' '*space + s)\n",
    "    \n",
    "right_justify('perambulator',70)\n",
    "\n",
    "#Docstrings are awesome"
   ]
  },
  {
   "cell_type": "code",
   "execution_count": null,
   "metadata": {
    "collapsed": false
   },
   "outputs": [],
   "source": [
    ">>> def right_justify(word):\n",
    "...     length = len(word)\n",
    "...     space = ' '\n",
    "...     numberofspaces = 70-length\n",
    "...     final = space*numberofspaces\n",
    "...     print(final, end='')\n",
    "...     print(word)\n",
    "... \n",
    ">>> right_justify('helloworld')\n",
    "                                                            helloworld\n",
    "\n",
    "#This code will not run due to syntax errors. \n",
    "#Avoid pasting output from running the Python interpreter in the terminal into Jupyter code cells"
   ]
  },
  {
   "cell_type": "markdown",
   "metadata": {
    "is_question": true
   },
   "source": [
    "### Exercise 3.3\n",
    "\n",
    "Note: This exercise should be done using only the statements and other features we have learned so far.\n",
    "\n",
    "1\\. Write a function that draws a grid like the following:\n",
    "\n",
    "```\n",
    "+ - - - - + - - - - +\n",
    "|         |         |\n",
    "|         |         |\n",
    "|         |         |\n",
    "|         |         |\n",
    "+ - - - - + - - - - +\n",
    "|         |         |\n",
    "|         |         |\n",
    "|         |         |\n",
    "|         |         |\n",
    "+ - - - - + - - - - +\n",
    "```\n",
    "Note: There are four empty spaces between the vertical bars.\n",
    "\n",
    "To print more than one value on a line, you can print a comma-separated sequence of values:\n",
    "\n",
    "```\n",
    "print('+', '-')\n",
    "```\n",
    "\n",
    "By default, `print` advances to the next line, but you can override that behavior and put a space at the end, like this:\n",
    "\n",
    "```\n",
    "print('+', end=' ')\n",
    "print('-')\n",
    "```\n",
    "\n",
    "The output of these statements is '+ -'.\n",
    "\n",
    "A `print` statement with no argument ends the current line and goes to the next line."
   ]
  },
  {
   "cell_type": "code",
   "execution_count": null,
   "metadata": {
    "collapsed": false
   },
   "outputs": [],
   "source": [
    "def draw_grid():\n",
    "    print('+',' -'*4,' +',' -'*4,' +')\n",
    "    print('|',' '*9,'|',' '*9,'|')\n",
    "    print('|',' '*9,'|',' '*9,'|')\n",
    "    print('|',' '*9,'|',' '*9,'|')\n",
    "    print('|',' '*9,'|',' '*9,'|')\n",
    "    print('+',' -'*4,' +',' -'*4,' +')\n",
    "    print('|',' '*9,'|',' '*9,'|')\n",
    "    print('|',' '*9,'|',' '*9,'|')\n",
    "    print('|',' '*9,'|',' '*9,'|')\n",
    "    print('|',' '*9,'|',' '*9,'|')\n",
    "    print('+',' -'*4,' +',' -'*4,' +')\n",
    "\n",
    "draw_grid()\n",
    "\n",
    "#Set repetitive lines to variables so the code is more easily modified"
   ]
  },
  {
   "cell_type": "code",
   "execution_count": null,
   "metadata": {
    "collapsed": true
   },
   "outputs": [],
   "source": [
    "def grid():\n",
    "    plus = '+'+' -'*4+' +'+' -'*4+ ' +'\n",
    "    minus = '|'+' '*9+'|'+' '*9+'|'\n",
    "    print(plus)\n",
    "    print(minus)\n",
    "    print(minus)\n",
    "    print(minus)\n",
    "    print(minus)\n",
    "    print(plus)\n",
    "    print(minus)\n",
    "    print(minus)\n",
    "    print(minus)\n",
    "    print(minus)\n",
    "    print(plus)"
   ]
  },
  {
   "cell_type": "markdown",
   "metadata": {},
   "source": [
    "  "
   ]
  },
  {
   "cell_type": "code",
   "execution_count": null,
   "metadata": {
    "collapsed": false
   },
   "outputs": [],
   "source": [
    "def gridfunct():\n",
    "    PatternA = ('+ ')+('- '*4)+('+ ')+('- '*4)+('+')\n",
    "    PatternB = ('|')+(' '*9)+('|')+(' '*9)+('|')\n",
    "    print(PatternA)\n",
    "    print(PatternB)\n",
    "    print(PatternB)\n",
    "    print(PatternB)\n",
    "    print(PatternB)\n",
    "    print(PatternA)\n",
    "    print(PatternB)\n",
    "    print(PatternB)\n",
    "    print(PatternB)\n",
    "    print(PatternB)\n",
    "    print(PatternA)\n",
    "    \n",
    "gridfunct()\n",
    "\n",
    "#If there are repetitive sections of code, put it in a loop"
   ]
  },
  {
   "cell_type": "code",
   "execution_count": null,
   "metadata": {
    "collapsed": false
   },
   "outputs": [],
   "source": [
    "def grid(x,y):\n",
    "    i = 0\n",
    "    while i < y:\n",
    "        print(x*'+ - - - - ', end='')\n",
    "        print('+')\n",
    "        j=0\n",
    "        while j < 4:\n",
    "            print(x*'|         ', end='')\n",
    "            print('|')\n",
    "            j+=1\n",
    "        i+=1\n",
    "    print(x*'+ - - - - ', end='')\n",
    "    print('+')\n",
    "\n",
    "x=2\n",
    "y=2\n",
    "grid(x,y)\n",
    "\n",
    "#A while loop is good, but you have to remember to increment the counter"
   ]
  },
  {
   "cell_type": "code",
   "execution_count": null,
   "metadata": {
    "collapsed": true
   },
   "outputs": [],
   "source": [
    " def rectp(n,c):\n",
    "    print (('+'+(' -'*4)+' ')*n+'+')\n",
    "    def rectc(c):\n",
    "        for i in range (0,c):\n",
    "            print(('|'+' '*8)*n+'|')\n",
    "            print(('|'+' '*8)*n+'|')\n",
    "            print(('|'+' '*8)*n+'|')\n",
    "            print(('|'+' '*8)*n+'|')\n",
    "            print (('+'+(' -'*4)+' ')*n+'+')\n",
    "    rectc(c)\n",
    "\n",
    "#A for loop iterates for you, safeguarding against infinite loops"
   ]
  },
  {
   "cell_type": "markdown",
   "metadata": {},
   "source": [
    "  "
   ]
  },
  {
   "cell_type": "code",
   "execution_count": null,
   "metadata": {
    "collapsed": false
   },
   "outputs": [],
   "source": [
    "def print_horizontal_edge(): #length = 2 units\n",
    "    print(('+ ' + '- '*4)*2, end='')\n",
    "    print('+')\n",
    "    \n",
    "def print_horizontal_bars():\n",
    "    print(('|' + ' '*9)*2, end='') \n",
    "    print('|')\n",
    "\n",
    "def do_twice(f):\n",
    "    f()\n",
    "    f()\n",
    "    \n",
    "def do_four_times(f):\n",
    "    do_twice(f)\n",
    "    do_twice(f)\n",
    "\n",
    "def print_grid_row():\n",
    "    print_horizontal_edge()\n",
    "    do_four_times(print_horizontal_bars)\n",
    "    \n",
    "def print_grid(): #2x2\n",
    "    do_twice(print_grid_row)\n",
    "    print_horizontal_edge()\n",
    "    \n",
    "print_grid()"
   ]
  },
  {
   "cell_type": "markdown",
   "metadata": {},
   "source": [
    "  "
   ]
  },
  {
   "cell_type": "code",
   "execution_count": null,
   "metadata": {
    "collapsed": false
   },
   "outputs": [],
   "source": [
    "#parameters:\n",
    "# r: # of rows in grid\n",
    "# c: number of columns in grid\n",
    "# prints out a grid of r rows and c columns\n",
    "def draw_grid(r,c):\n",
    "    \n",
    "    # Exception case\n",
    "    if (r == 0) or (c == 0):\n",
    "        print(\"ERROR: invalid dimensions given\")\n",
    "        return\n",
    "        \n",
    "    # Defining grid lines\n",
    "    line_1 = '+' + ' - - - - +'*c\n",
    "    line_2 = '|' + '         |'*c\n",
    "    \n",
    "    # Printing grid\n",
    "    print(line_1)\n",
    "    for i in range(0,r):\n",
    "        for i in range (0,4):\n",
    "            print(line_2)\n",
    "        print(line_1)\n",
    "\n",
    "draw_grid(2,2)"
   ]
  },
  {
   "cell_type": "markdown",
   "metadata": {},
   "source": [
    "  "
   ]
  },
  {
   "cell_type": "code",
   "execution_count": null,
   "metadata": {
    "collapsed": false
   },
   "outputs": [],
   "source": [
    "def stuff(a):\n",
    "    x = '|         '+'|         '+'|'\n",
    "    y = '+ '+'- '*4+'+ '+'- '*4+'+'\n",
    "    print(y)\n",
    "    print(x+'\\n'+x+'\\n'+x+'\\n'+x)\n",
    "    print(y)\n",
    "    print(x+'\\n'+x+'\\n'+x+'\\n'+x)\n",
    "    print(y)\n",
    "    \n",
    "stuff('hello')\n",
    "\n",
    "#It is okay to make a function that doesn't take any inputs. Ie: def stuff(): etc..."
   ]
  },
  {
   "cell_type": "markdown",
   "metadata": {},
   "source": [
    "  "
   ]
  },
  {
   "cell_type": "code",
   "execution_count": null,
   "metadata": {
    "collapsed": false
   },
   "outputs": [],
   "source": [
    "print(\"+ - - - - + - - - - +\")\n",
    "print(\"|         |         |\")\n",
    "print(\"|         |         |\")\n",
    "print(\"|         |         |\")\n",
    "print(\"|         |         |\")\n",
    "print(\"+ - - - - + - - - - +\")\n",
    "print(\"|         |         |\")\n",
    "print(\"|         |         |\")\n",
    "print(\"|         |         |\")\n",
    "print(\"|         |         |\")\n",
    "print(\"+ - - - - + - - - - +\")\n",
    "\n",
    "#Technically not a function."
   ]
  },
  {
   "cell_type": "markdown",
   "metadata": {
    "is_question": true
   },
   "source": [
    "### Exercise 5.2\n",
    "\n",
    "Fermat’s Last Theorem says that there are no positive integers $a$, $b$, and $c$ such that $$a^n + b^n = c^n$$ for any values of $n$ greater than 2.\n",
    "\n",
    "1\\. Write a function named `check_fermat` that takes four parameters – $a$, $b$, $c$ and $n$ – and that checks to see if Fermat’s theorem holds. If n is greater than 2 and it turns out to be true that\n",
    "$a^n + b^n = c^n$, then the program should print: \"Holy smokes, Fermat was wrong!\" Otherwise the program should print: \"No, that doesn’t work.\""
   ]
  },
  {
   "cell_type": "code",
   "execution_count": null,
   "metadata": {
    "collapsed": false
   },
   "outputs": [],
   "source": [
    "def check_fermat(a,b,c,n):\n",
    "    if a^n + b^n == c^n:\n",
    "        print(\"Holy smokes, Fermat was wrong!\")\n",
    "    else:\n",
    "        print(\"No, that doesn't work\")\n",
    "        \n",
    "check_fermat(2,4,10,2)\n",
    "\n",
    "#Python's exponential is done with two stars i.e: 2**2, or math.pow"
   ]
  },
  {
   "cell_type": "code",
   "execution_count": null,
   "metadata": {
    "collapsed": false
   },
   "outputs": [],
   "source": [
    "def check_fermat(a,b,c,n):\n",
    "        if a**n + b**n == c**n:\n",
    "            print('Holy smokes, Fermat was wrong!')\n",
    "        else:\n",
    "            print(\"No, that doesn't work. Fermat is right.\")\n",
    "        \n",
    "check_fermat(1,2,3,1)\n",
    "      "
   ]
  },
  {
   "cell_type": "code",
   "execution_count": null,
   "metadata": {
    "collapsed": true
   },
   "outputs": [],
   "source": [
    "import math\n",
    "\n",
    "def check_fermat(a,b,c,n):\n",
    "    # checks that fermat's last theorem holds for the input\n",
    "    if (math.pow(a,n) + math.pow(b,n)) == math.pow(c,n) and n > 2:\n",
    "        print(\"Holy smokes, Fermat was wrong!\")\n",
    "    else:\n",
    "        print(\"No, that doesn't work.\")\n",
    "    return"
   ]
  },
  {
   "cell_type": "markdown",
   "metadata": {},
   "source": [
    "  "
   ]
  },
  {
   "cell_type": "code",
   "execution_count": null,
   "metadata": {
    "collapsed": true
   },
   "outputs": [],
   "source": [
    "def check_fermat(a,b,c,n):\n",
    "    if(n>2):\n",
    "        a = a**n\n",
    "        b = b**n\n",
    "        c = c**n\n",
    "        if(a+b == c):\n",
    "            print('Holy smokes, Fermat was wrong!')\n",
    "        else:\n",
    "            print(\"No, that doesn't work\")\n",
    "    else:\n",
    "        print(\"No, that doesn't work\")\n",
    "\n",
    "#You can check a lot of things at once in the conditional statement as long as the parenthesis are good"
   ]
  },
  {
   "cell_type": "code",
   "execution_count": null,
   "metadata": {
    "collapsed": true
   },
   "outputs": [],
   "source": [
    "def check_fermat(a,b,c,n):\n",
    "    if (a**n)+(b**n)==(c**n): \n",
    "        if c > 2:\n",
    "            print('Holy smokes, Fermat was Wrong!')\n",
    "        \n",
    "        else:\n",
    "            print('Fermat said this would work')\n",
    "            \n",
    "    else: \n",
    "        print('No, that does not work')\n",
    "            \n"
   ]
  },
  {
   "cell_type": "markdown",
   "metadata": {},
   "source": [
    "  "
   ]
  },
  {
   "cell_type": "code",
   "execution_count": null,
   "metadata": {
    "collapsed": true
   },
   "outputs": [],
   "source": [
    "def check_fermat(a,b,c,n):\n",
    "    a = int(a)\n",
    "    print(a)\n",
    "    \n",
    "    b = int(b)\n",
    "    print(b)\n",
    "    \n",
    "    c = int(c)\n",
    "    print(c)\n",
    "    \n",
    "    n = int(n)\n",
    "    print(n)\n",
    "    if n <= 2:\n",
    "        print(\"Please make n greater than 2\")\n",
    "    test = a**n + b **n\n",
    "    test1 = c**n\n",
    "    if test == test1:\n",
    "        print(\"Holy smokes, Fermat was wrong!\")\n",
    "    else:\n",
    "        print(\"No, that doesn't work\")\n",
    "\n",
    "#If n <= 2, this function still continues and evaluates the rest of the code anyways\n",
    "#There should be a return statement after that if statement, or nest the second if statement"
   ]
  },
  {
   "cell_type": "code",
   "execution_count": null,
   "metadata": {
    "collapsed": false
   },
   "outputs": [],
   "source": [
    "def check_fermat(a,b,c,n):\n",
    "    if n < 2:\n",
    "        print('Need a higher n')\n",
    "    elif n > 2:\n",
    "            if (a**n)+(b**n)-(c**n) == 0:\n",
    "                print('Holy smokes, Fermat was wrong!')\n",
    "            else:\n",
    "                print(\"No, that doesn't work\")\n",
    "    else:\n",
    "        print('Need a higher n')\n",
    "            \n",
    "check_fermat(4,5,6,3)"
   ]
  },
  {
   "cell_type": "code",
   "execution_count": null,
   "metadata": {
    "collapsed": false
   },
   "outputs": [],
   "source": [
    "def check_fermat(a,b,c,n):\n",
    "    if (a**n + b**n) == c**n and n >2:\n",
    "        print('Holy smokes, Fermat was wrong!')\n",
    "    else:\n",
    "        print('No, that does not work.')"
   ]
  },
  {
   "cell_type": "markdown",
   "metadata": {},
   "source": [
    "  "
   ]
  },
  {
   "cell_type": "code",
   "execution_count": null,
   "metadata": {
    "collapsed": false
   },
   "outputs": [],
   "source": [
    "def check_fermat(a, b, c, n):\n",
    "    ''' check_fermat function\n",
    "parameters:\n",
    "    - a,b,c,n: integers plugged into Fermat's Last Theorem\n",
    "return:\n",
    "    - statement verifying whether the input values break Fermat's Last Theorem\n",
    "'''\n",
    "    if (n > 2) and (a**n + b**n == c**n):\n",
    "        print(\"Holy smokes, Fermat was wrong!\")\n",
    "    elif (n <= 2):\n",
    "        print(\"Yep, that works.\")\n",
    "        print(a**n + b**n, \"equals\",c**n,\".\")\n",
    "    else:\n",
    "        print(\"No, that doesn't work.\")\n",
    "        print(a**n + b**n, \"does not equal\",c**n,\".\")\n",
    "\n",
    "check_fermat(6,8,10,2)\n",
    "check_fermat(6,8,10,3)\n",
    "\n",
    "#Docstrings are great"
   ]
  },
  {
   "cell_type": "markdown",
   "metadata": {
    "is_question": true
   },
   "source": [
    "### Exercise 5.3 \n",
    "\n",
    "If you are given three sticks, you may or may not be able to arrange them in a triangle. For example, if one of the sticks is 12 inches long and the other two are one inch long, it is clear that you will not be able to get the short sticks to meet in the middle. For any three lengths, there is a simple test to see if it is possible to form a triangle:\n",
    "> If any of the three lengths is greater than the sum of the other two, then you cannot form a triangle. Otherwise, you can. (If the sum of two lengths equals the third, they form what is called a “degenerate” triangle.)\n",
    "\n",
    "1\\. Write a function named `is_triangle` that takes three integers as arguments, and that prints either \"Yes\" or \"No,\" depending on whether you can or cannot form a triangle from sticks with the given lengths."
   ]
  },
  {
   "cell_type": "code",
   "execution_count": null,
   "metadata": {
    "collapsed": false
   },
   "outputs": [],
   "source": [
    "def is_triangle(a,b,c):\n",
    "    if a+b == c:\n",
    "        print('Degenerate')\n",
    "    elif a+c == b:\n",
    "        print('Degenerate')\n",
    "    elif c+b == a:\n",
    "        print('Degenerate')\n",
    "    elif a+b < c:\n",
    "        print('No')\n",
    "    elif a+c < b:\n",
    "        print('No')\n",
    "    elif b+c < a:\n",
    "        print('No')\n",
    "    else:\n",
    "        print('Yes')\n",
    "        \n",
    "is_triangle(12,2,2)\n",
    "is_triangle(12,12,12)\n",
    "is_triangle(12,6,6)\n",
    "\n",
    "#Group similar statements together into one conditional"
   ]
  },
  {
   "cell_type": "code",
   "execution_count": null,
   "metadata": {
    "collapsed": false
   },
   "outputs": [],
   "source": [
    "def is_triangle(a,b,c):\n",
    "    if a + b >= c and b + c >= a and a + c >= b:\n",
    "        print(\"Yes\")\n",
    "    else:\n",
    "        print('No')\n",
    "        \n",
    "is_triangle(3,4,5)\n",
    "\n",
    "#Use brackets to make the code more readable at a glance"
   ]
  },
  {
   "cell_type": "code",
   "execution_count": null,
   "metadata": {
    "collapsed": true
   },
   "outputs": [],
   "source": [
    "def is_triangle(a, b, c):\n",
    "    if (a+b) <= c or (b+c) <= a or (a+c) <= b:\n",
    "        print('No')\n",
    "    else: \n",
    "            print('Yes')"
   ]
  },
  {
   "cell_type": "markdown",
   "metadata": {},
   "source": [
    "  "
   ]
  },
  {
   "cell_type": "code",
   "execution_count": null,
   "metadata": {
    "collapsed": false
   },
   "outputs": [],
   "source": [
    "def is_triangle(a,b,c):\n",
    "    if a>b+c:\n",
    "        print(\"No\")\n",
    "    else:\n",
    "        if b>a+c:\n",
    "            print(\"No\")\n",
    "        else:\n",
    "            if c>a+b:\n",
    "                print(\"No\")\n",
    "            else:\n",
    "                print(\"Yes\")\n",
    "is_triangle(1,2,3)\n",
    "\n",
    "#You don't need to have an else statement attached to an if"
   ]
  },
  {
   "cell_type": "code",
   "execution_count": null,
   "metadata": {
    "collapsed": false
   },
   "outputs": [],
   "source": [
    "def is_triangle():\n",
    "    a = 3\n",
    "    b = 4\n",
    "    c = 5\n",
    "    \n",
    "    if a + b >= c:\n",
    "        if a + c >= b:\n",
    "            if b + c >= a:\n",
    "                print('Yes')\n",
    "    else:\n",
    "        print('No')\n",
    "        \n",
    "is_triangle()\n",
    "\n",
    "#The nested conditionals can be grouped into one"
   ]
  },
  {
   "cell_type": "code",
   "execution_count": null,
   "metadata": {
    "collapsed": false
   },
   "outputs": [],
   "source": [
    "def is_triangle(a, b, c):\n",
    "    check1 = (a+b) > c\n",
    "    check2 = (b+c) > a\n",
    "    check3 = (a+c) > b\n",
    "    if check1 and check2 and check3:\n",
    "        print('It is a triangle')\n",
    "    else:\n",
    "        print('It is not a triangle')\n",
    "        \n",
    "is_triangle(1, 2, 12)\n",
    "is_triangle(3, 4, 5)"
   ]
  },
  {
   "cell_type": "markdown",
   "metadata": {},
   "source": [
    "  "
   ]
  },
  {
   "cell_type": "code",
   "execution_count": null,
   "metadata": {
    "collapsed": true
   },
   "outputs": [],
   "source": [
    "def is_triangle(a,b,c):\n",
    "    largest = a\n",
    "    sum = b+c\n",
    "    if(largest < b):\n",
    "        largest = b\n",
    "        sum = a+c\n",
    "    if(largest < c):\n",
    "        largest = c\n",
    "        sum = a+b\n",
    "\n",
    "    if(largest > sum):\n",
    "        print('No')\n",
    "    else:\n",
    "        print('Yes')"
   ]
  },
  {
   "cell_type": "code",
   "execution_count": null,
   "metadata": {
    "collapsed": false
   },
   "outputs": [],
   "source": [
    "def is_triangle(a, b, c):\n",
    "    tri = True\n",
    "\n",
    "    if a+b <= c:\n",
    "        tri = False\n",
    "    elif a+c <= b:\n",
    "        tri = False\n",
    "    elif b+c <= a:\n",
    "        tri = False\n",
    "\n",
    "    if tri:\n",
    "        print('Yes')\n",
    "    else:\n",
    "        print('No')\n",
    "        \n",
    "is_triangle(3, 4, 5)"
   ]
  },
  {
   "cell_type": "markdown",
   "metadata": {},
   "source": [
    "  "
   ]
  },
  {
   "cell_type": "code",
   "execution_count": null,
   "metadata": {
    "collapsed": true
   },
   "outputs": [],
   "source": [
    "def is_triangle(values):\n",
    "    sorted(values)\n",
    "    if(values.pop >= (values.pop + values.pop)):\n",
    "        print(\"No\")\n",
    "    else:\n",
    "        print(\"Yes\")"
   ]
  },
  {
   "cell_type": "code",
   "execution_count": null,
   "metadata": {
    "collapsed": false
   },
   "outputs": [],
   "source": [
    "def is_triangle(a,b,c): print(['Yes','No'][int(sorted([a,b,c])[2] > sorted([a,b,c])[1] + sorted([a,b,c])[0])])\n"
   ]
  }
 ],
 "metadata": {
  "anaconda-cloud": {},
  "kernelspec": {
   "display_name": "Python 2",
   "language": "python",
   "name": "python2"
  },
  "language_info": {
   "codemirror_mode": {
    "name": "ipython",
    "version": 2
   },
   "file_extension": ".py",
   "mimetype": "text/x-python",
   "name": "python",
   "nbconvert_exporter": "python",
   "pygments_lexer": "ipython2",
   "version": "2.7.10"
  }
 },
 "nbformat": 4,
 "nbformat_minor": 0
}
