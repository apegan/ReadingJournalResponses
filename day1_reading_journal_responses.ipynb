{
 "cells": [
  {
   "cell_type": "markdown",
   "metadata": {},
   "source": [
    "# Day 1 Reading Journal – Responses"
   ]
  },
  {
   "cell_type": "markdown",
   "metadata": {
    "is_question": true
   },
   "source": [
    "### Exercise 1.4\n",
    "\n",
    "Start the Python interpreter and use it as a simple calculator. Python’s syntax for math operations is almost the same as standard mathematical notation. For example, the symbols +, - and / denote addition, subtraction and division, as you would expect. The symbol for multiplication is *\n",
    "\n",
    "* How many seconds are there in 42 minutes 42 seconds?\n",
    "* How many miles are there in 10 kilometers? Hint: there are 1.61 kilometers in a mile.\n",
    "* If you run a 10 kilometer race in 42 minutes 42 seconds, what is your average pace (time per mile in minutes and seconds)? What is your average speed in miles per hour?\n",
    "\n",
    "Please use the following markdown cell to provide your answers."
   ]
  },
  {
   "cell_type": "code",
   "execution_count": 4,
   "metadata": {
    "collapsed": false,
    "scrolled": true
   },
   "outputs": [],
   "source": [
    "42*60+42"
   ]
  },
  {
   "cell_type": "code",
   "execution_count": null,
   "metadata": {
    "collapsed": false
   },
   "outputs": [],
   "source": [
    "2562 seconds;\n",
    "6.2 miles;\n",
    "413.2 seconds / mile = 6 minutes, 52 seconds / mile. Average speed = 8.71 mph;\n"
   ]
  },
  {
   "cell_type": "code",
   "execution_count": 15,
   "metadata": {
    "collapsed": false
   },
   "outputs": [],
   "source": [
    "print(42*60+42)\n",
    "print(10/1.61)\n",
    "print((10/1.61)/42.7)\n",
    "print((10/1.61)/2562)\n",
    "print((6.211180124223602/2562)*60*60)\n"
   ]
  },
  {
   "cell_type": "markdown",
   "metadata": {
    "collapsed": false
   },
   "source": [
    "* 2580 seconds\n",
    "* 10 km is 6.21 miles\n",
    "* The pace is a 415.38 second mile or a 6.92 minute mile.  The average speed is 8.67 mph.  \n",
    "\n"
   ]
  },
  {
   "cell_type": "code",
   "execution_count": 39,
   "metadata": {
    "collapsed": false
   },
   "outputs": [],
   "source": [
    "import math\n",
    "\n",
    "secs = 42*60+42\n",
    "miles = 10 / 1.61\n",
    "print('seconds = ' + str(secs))\n",
    "print('miles = ' + str(miles))\n",
    "secPerMile = 3600\n",
    "spd = miles/(secs/secPerMile)\n",
    "print('speed = ' + str(spd) + ' miles/hour')\n",
    "pace = (1/spd)*secPerMile\n",
    "mpace = math.floor(pace / 60)\n",
    "space = pace % 60\n",
    "print('pace = ' + str(mpace) +':'+ str(round(space, 2)) +' (mm:ss)')"
   ]
  },
  {
   "cell_type": "code",
   "execution_count": 2,
   "metadata": {
    "collapsed": false
   },
   "outputs": [],
   "source": [
    "print ((42*60)+40, \"seconds\")\n",
    "print (10/1.61, \"miles\")\n",
    "print()\n",
    "print ((((42*60)+40)/60)/(10/1.61)-.8693333333333333333333333333333333, \"minutes and\",(.86933333333333333333*60), \"seconds\")\n",
    "print((10/1.61)/(((42*60)+40)/3600), \"miles per hour\")"
   ]
  },
  {
   "cell_type": "code",
   "execution_count": 6,
   "metadata": {
    "collapsed": false
   },
   "outputs": [],
   "source": [
    "print(42*60+42)\n",
    "print(10*1.61)\n",
    "print(2562/16.1)\n",
    "print(2562/(60*60))"
   ]
  },
  {
   "cell_type": "code",
   "execution_count": 10,
   "metadata": {
    "collapsed": false
   },
   "outputs": [],
   "source": [
    "seconds = 42+(42*60)\n",
    "\n",
    "print('42 minutes and 42 seconds is ', seconds, ' seconds.')\n",
    "km = 10\n",
    "miles = km/1.61\n",
    "print('There are ','{:.2f}'.format(miles),' miles in 10 km.')\n",
    "avg_pace = seconds/miles\n",
    "pace_min = int(avg_pace/60)\n",
    "pace_sec = int(avg_pace%60)\n",
    "print('Average pace is ', pace_min,' minutes and ',pace_sec, \\\n",
    "      ' seconds per mile..')\n",
    "avg_speed = miles*(3600/seconds)\n",
    "print('Average speed is ','{:.2f}'.format(avg_speed),' miles per hour.')"
   ]
  },
  {
   "cell_type": "code",
   "execution_count": null,
   "metadata": {
    "collapsed": false
   },
   "outputs": [],
   "source": [
    "2562\n",
    "12.422\n",
    "206.247 s/mi\n",
    "3.437 min/mi\n",
    "0.291 mph"
   ]
  },
  {
   "cell_type": "code",
   "execution_count": null,
   "metadata": {
    "collapsed": false
   },
   "outputs": [],
   "source": [
    "Seconds = 2562\n",
    "Miles = 6.211\n",
    "AveragePace = 412.48732 seconds per miles\n",
    "AverageSpeed = 8.7274 mph"
   ]
  },
  {
   "cell_type": "code",
   "execution_count": 26,
   "metadata": {
    "collapsed": false
   },
   "outputs": [],
   "source": [
    "print((42*60)+42, 10/1.61, ((2562/6.2111)/60)-.874788684774034,.874788684774034*60,6.2111/((2562/60)/60))"
   ]
  },
  {
   "cell_type": "code",
   "execution_count": 3,
   "metadata": {
    "collapsed": false
   },
   "outputs": [],
   "source": [
    "42*60+42 #number of seconds"
   ]
  },
  {
   "cell_type": "code",
   "execution_count": 2,
   "metadata": {
    "collapsed": false
   },
   "outputs": [],
   "source": [
    "seconds = 42*60+42\n",
    "miles = 10 * 1.61\n",
    "miles/seconds"
   ]
  },
  {
   "cell_type": "code",
   "execution_count": null,
   "metadata": {
    "collapsed": false
   },
   "outputs": [],
   "source": [
    "#First question\n",
    "(42*60)+42\n",
    "\n",
    "#Second question\n",
    "# 1 mile = 1.61 km\n",
    "# x miles = 10 km\n",
    "10/1.61\n",
    "\n",
    "#Third question\n",
    "# pace in mins per mile\n",
    "((42*60+42)/60)/(10/1.61)\n",
    "\n",
    "#Third question\n",
    "# speed in miles per hour\n",
    "# d = r * t\n",
    "(10/1.61)/((42*60+42)/3600)\n"
   ]
  },
  {
   "cell_type": "code",
   "execution_count": 35,
   "metadata": {
    "collapsed": false
   },
   "outputs": [],
   "source": [
    "print('Seconds in 42min 42sec:', 42*60+42)   \n",
    "\n",
    "print('Miles in 10km:', round(10/1.61, 2))\n",
    "\n",
    "(2562/6.21/60)\n",
    "(.88*60)\n",
    "\n",
    "print('Average pace is 6:53 per mile')\n",
    "\n",
    "(6.21/(2562/3600))\n",
    "print('Average Speed:', 8.7, 'mph')"
   ]
  },
  {
   "cell_type": "code",
   "execution_count": 7,
   "metadata": {
    "collapsed": false
   },
   "outputs": [],
   "source": [
    "s = 42 + 42 * 60\n",
    "print('1.',s, 'seconds')\n",
    "d = 10 / 1.61\n",
    "print('2.',d,'miles')\n",
    "seconds = ((s/60) % d) / d\n",
    "minutes = s / d / 60 - seconds\n",
    "print('3.',end =' ')\n",
    "print(int(minutes)+1,'minutes',end =' ')\n",
    "print(int(seconds * 60) ,'seconds')\n",
    "print('4.',60 /(seconds + minutes),'mph')\n"
   ]
  },
  {
   "cell_type": "code",
   "execution_count": 86,
   "metadata": {
    "collapsed": false
   },
   "outputs": [],
   "source": [
    "numSeconds = 42 * 60 + 42\n",
    "print('00:42:42 = ' + str(numSeconds) + ' sec')\n",
    "numMiles = round(10 / 1.61,2)\n",
    "print('10km = ' + str(numMiles) + ' miles')\n",
    "pace = round(numSeconds / numMiles)\n",
    "paceMin = pace // 60\n",
    "paceSec = pace % 60\n",
    "print('pace = ' + str(paceMin) + ':' + str(paceSec) + '/mile')\n",
    "numHours = numSeconds / 60**2\n",
    "speed = round(numMiles / numHours,2)\n",
    "print('speed = ' + str(speed) + ' mph')\n"
   ]
  },
  {
   "cell_type": "code",
   "execution_count": 4,
   "metadata": {
    "collapsed": false
   },
   "outputs": [],
   "source": [
    "print ((42*60) + 42) #number of seconds\n",
    "print (10/1.61) #miles in 10 kilometers\n",
    "print ((42 + (42/60))/(10/1.61)) #minutes per mile\n",
    "print ((42*60 + 42)/(10/1.61)) #seconds per mile\n",
    "print ((10/1.61)/((42/60) +(42/3600))) #miles per hour\n"
   ]
  },
  {
   "cell_type": "markdown",
   "metadata": {
    "is_question": true
   },
   "source": [
    "### Exercise\n",
    "\n",
    "Assume that we execute the following assignment statements:\n",
    "\n",
    "```\n",
    "width = 17\n",
    "height = 12.0\n",
    "delimiter = '.'\n",
    "```\n",
    "\n",
    "For each of the following expressions, write the value of the expression and the type (of the value of the expression).\n",
    "\n",
    "Example: `width * 2` <br/>\n",
    "Answer: 34, integer\n",
    "\n",
    "1. `width/2`\n",
    "2. `width/2.0`\n",
    "3. `height/3`\n",
    "4. `1 + 2 * 5`\n",
    "5. `delimiter * 5`\n",
    "\n",
    "Please use the following markdown cell to provide your answer."
   ]
  },
  {
   "cell_type": "code",
   "execution_count": 21,
   "metadata": {
    "collapsed": false
   },
   "outputs": [],
   "source": [
    "width = 17\n",
    "height = 12.0\n",
    "delimiter = '.'\n",
    "\n",
    "print(delimiter*5)\n"
   ]
  },
  {
   "cell_type": "code",
   "execution_count": 5,
   "metadata": {
    "collapsed": false
   },
   "outputs": [],
   "source": [
    "width = 17\n",
    "height = 12.0\n",
    "delimiter = '.'\n",
    "1. 8, integer\n",
    "2. 8.5, float\n",
    "3. 4.0, float\n",
    "4. 11\n",
    "5. '.....', String\n",
    "\n"
   ]
  },
  {
   "cell_type": "code",
   "execution_count": 16,
   "metadata": {
    "collapsed": false
   },
   "outputs": [],
   "source": [
    "width = 17\n",
    "height = 12.0\n",
    "delimiter = '.'\n",
    "\n",
    "print(width/2)\n",
    "print(width/2.0)\n",
    "print(height/3)\n",
    "print(1 + 2 * 5)\n",
    "print(delimiter * 5)\n"
   ]
  },
  {
   "cell_type": "code",
   "execution_count": 9,
   "metadata": {
    "collapsed": false
   },
   "outputs": [],
   "source": [
    "width = 17\n",
    "height = 12.0\n",
    "delimiter = '.'\n",
    "\n",
    "one = width/2\n",
    "print(one,'int')\n",
    "\n",
    "two = width / 2.0\n",
    "print(two,'float')\n",
    "\n",
    "three = height/3\n",
    "print(three, 'float')\n",
    "\n",
    "four = 1+2*5\n",
    "print(four, 'int')\n",
    "\n",
    "five = delimiter*5\n",
    "print(five,'str')\n",
    "\n"
   ]
  },
  {
   "cell_type": "code",
   "execution_count": 28,
   "metadata": {
    "collapsed": false
   },
   "outputs": [],
   "source": [
    "width = 17\n",
    "height = 12.0\n",
    "delimiter = '.'\n",
    "\n",
    "a1 = width/2\n",
    "a2 = width/2.0\n",
    "a3 = height/3\n",
    "a4 = 1+2*5\n",
    "a5 = delimiter*5\n",
    "\n",
    "print(str(a1)+ ', ' + str(type(a1)))\n",
    "print(str(a2)+ ', ' + str(type(a2)))\n",
    "print(str(a3)+ ', ' + str(type(a3)))\n",
    "print(str(a4)+ ', ' + str(type(a4)))\n",
    "print(str(a5)+ ', ' + str(type(a5)))"
   ]
  },
  {
   "cell_type": "code",
   "execution_count": 2,
   "metadata": {
    "collapsed": false
   },
   "outputs": [],
   "source": [
    "width = 17\n",
    "height = 12.0\n",
    "delimiter = '.'\n",
    "\n",
    "delimiter*5\n"
   ]
  },
  {
   "cell_type": "code",
   "execution_count": 5,
   "metadata": {
    "collapsed": false
   },
   "outputs": [],
   "source": [
    "width = 17\n",
    "height = 12.0\n",
    "delimiter = '.'\n",
    "\n",
    "1. 8.5, float\n",
    "2. 8.5, float\n",
    "3. 4.0, float\n",
    "4. 11, int\n",
    "5. '.....', str"
   ]
  },
  {
   "cell_type": "code",
   "execution_count": 1,
   "metadata": {
    "collapsed": false
   },
   "outputs": [],
   "source": [
    "width = 17\n",
    "height = 12.0\n",
    "delimiter = '.'\n",
    "\n",
    "val1=width/2\n",
    "val2=width/2.0\n",
    "val3=height/3\n",
    "val4=1+2*5\n",
    "val5=delimiter*5\n",
    "\n",
    "print('1. ', val1, ' Type: ', type(val1))\n",
    "print('2. ', val2, ' Type: ', type(val2))\n",
    "print('3. ', val3, ' Type: ', type(val3))\n",
    "print('4. ', val4, ' Type: ', type(val4))\n",
    "print('5. ', val5, ' Type: ', type(val5))"
   ]
  },
  {
   "cell_type": "code",
   "execution_count": 12,
   "metadata": {
    "collapsed": false
   },
   "outputs": [],
   "source": [
    "width = 17\n",
    "height = 12.0\n",
    "delimiter = '.'\n",
    "\n",
    "delimiter * 5"
   ]
  },
  {
   "cell_type": "code",
   "execution_count": 5,
   "metadata": {
    "collapsed": false
   },
   "outputs": [],
   "source": [
    "width = 17\n",
    "height = 12.0\n",
    "delimiter = '.'\n"
   ]
  },
  {
   "cell_type": "code",
   "execution_count": 35,
   "metadata": {
    "collapsed": false
   },
   "outputs": [],
   "source": [
    "width = 17\n",
    "height = 12.0\n",
    "delimiter = '.'\n",
    "print(width/2,type(width/2),width/2.0,type(width/2.0),height/3,type(height/3),1+2*5,type(1+2*5),delimiter*5,type(delimiter*5))"
   ]
  },
  {
   "cell_type": "code",
   "execution_count": 14,
   "metadata": {
    "collapsed": false
   },
   "outputs": [],
   "source": [
    "width = 17\n",
    "height = 12.0\n",
    "delimiter = '.'\n",
    "delimiter*5"
   ]
  },
  {
   "cell_type": "code",
   "execution_count": 25,
   "metadata": {
    "collapsed": false
   },
   "outputs": [],
   "source": [
    "width = 17\n",
    "height = 12.0\n",
    "delimiter = '.'\n",
    "\n",
    "print(width/2)\n",
    "print(width/2.0)\n",
    "print(height/3)\n",
    "print(1+2*5)\n",
    "print(delimiter*5)"
   ]
  },
  {
   "cell_type": "code",
   "execution_count": 18,
   "metadata": {
    "collapsed": false
   },
   "outputs": [],
   "source": [
    "width = 17\n",
    "height = 12.0\n",
    "delimiter = '.'\n",
    "print(width/2, 'float')\n",
    "print(width/2.0, 'float')\n",
    "print(height/3, 'float')\n",
    "print(1+2*5, 'integer')\n",
    "print(delimiter *5, 'string')"
   ]
  },
  {
   "cell_type": "code",
   "execution_count": 10,
   "metadata": {
    "collapsed": false
   },
   "outputs": [],
   "source": [
    "width = 17\n",
    "height = 12.0\n",
    "delimiter = '.'\n",
    "print(\"Answer:\", width/2, \", Float\")\n",
    "\n",
    "print(\"Answer:\", width/2.0, \", Float\")\n",
    "\n",
    "print(\"Answer:\", height/2, \", Float\")\n",
    "\n",
    "print(\"Answer:\", 1 + 2 * 5 ,\", Integer\")\n",
    "\n",
    "print(\"Answer:\", delimiter * 5, \", String\")"
   ]
  },
  {
   "cell_type": "code",
   "execution_count": 37,
   "metadata": {
    "collapsed": false
   },
   "outputs": [],
   "source": [
    "width = 17\n",
    "height = 12.0\n",
    "delimiter = '.'\n",
    "\n",
    "def getType(thing):\n",
    "    thingType = str(type(thing))\n",
    "    thingType = thingType[8:-2]\n",
    "    return thingType\n",
    "\n",
    "answer1 = width / 2\n",
    "answer2 = width / 2.0\n",
    "answer3 = height / 3\n",
    "answer4 = 1 + 2 * 5\n",
    "answer5 = delimiter * 5\n",
    "\n",
    "print('Answer 1: ' + str(answer1) + ', ' + getType(answer1))\n",
    "print('Answer 2: ' + str(answer2) + ', ' + getType(answer2))\n",
    "print('Answer 3: ' + str(answer3) + ', ' + getType(answer3))\n",
    "print('Answer 4: ' + str(answer4) + ', ' + getType(answer4))\n",
    "print('Answer 5: ' + str(answer5) + ', ' + getType(answer5))\n"
   ]
  },
  {
   "cell_type": "code",
   "execution_count": 45,
   "metadata": {
    "collapsed": false
   },
   "outputs": [],
   "source": [
    "width = 17\n",
    "height = 12.0\n",
    "delimiter = '.'\n",
    "\n",
    "print(width/2)     #float\n",
    "print(width/2.0)   #float\n",
    "print(height/3)    #float\n",
    "print(1 + 2 * 5)   #integer\n",
    "delimiter * 5      #string"
   ]
  },
  {
   "cell_type": "markdown",
   "metadata": {
    "is_question": true
   },
   "source": [
    "### Exercise 3.1\n",
    "\n",
    "Write a function named `right_justify` that takes a string named s as a parameter and prints the string with enough leading spaces so that the last letter of the string is in column 70 of the display.\n",
    "\n",
    "```\n",
    ">>> right_justify('monty')\n",
    "                                                                 monty\n",
    "```\n",
    "Hint: Use string concatenation and repetition. Also, Python provides a built-in function called `len` that returns the length of a string, so the value of `len('monty')` is 5."
   ]
  },
  {
   "cell_type": "code",
   "execution_count": 30,
   "metadata": {
    "collapsed": false
   },
   "outputs": [],
   "source": [
    "def right_justify(s):\n",
    "  print(\" \"*(70-len(s)) + s)\n",
    "\n",
    "right_justify(\"potato\")"
   ]
  },
  {
   "cell_type": "code",
   "execution_count": null,
   "metadata": {
    "collapsed": false
   },
   "outputs": [],
   "source": [
    ">>> def right_justify(s):\n",
    "...     strlength = len('s')\n",
    "...     spacenum = 70 - strlength\n",
    "...     space = ' '\n",
    "...     print(space * spacenum + s)\n",
    "... \n",
    ">>> right_justify('monty')\n",
    "      "
   ]
  },
  {
   "cell_type": "code",
   "execution_count": 38,
   "metadata": {
    "collapsed": false
   },
   "outputs": [],
   "source": [
    "def right_justify(x):\n",
    "    m = len(x)\n",
    "    y = 70 - m\n",
    "    z = ' '*y\n",
    "    print(z,x)\n",
    "   \n",
    "right_justify(\"wow\")"
   ]
  },
  {
   "cell_type": "code",
   "execution_count": 69,
   "metadata": {
    "collapsed": false
   },
   "outputs": [],
   "source": [
    "def right_justify(s):\n",
    "    length = len('s')\n",
    "    spaces_need = 70 - length\n",
    "    print(' '*spaces_need+s)\n",
    "    \n",
    "right_justify('monty')"
   ]
  },
  {
   "cell_type": "code",
   "execution_count": 25,
   "metadata": {
    "collapsed": false
   },
   "outputs": [],
   "source": [
    "def right_justify(s):\n",
    "    space = ' '\n",
    "    string_length = len('s')\n",
    "    numspace = 70 - string_length\n",
    "    blankspace = space*numspace\n",
    "    print(blankspace+s)\n",
    "    \n",
    "right_justify('monty')    \n",
    "    "
   ]
  },
  {
   "cell_type": "code",
   "execution_count": 6,
   "metadata": {
    "collapsed": false
   },
   "outputs": [],
   "source": [
    "def right_justify(s):\n",
    "    print(' '*(70 - len(s)) + s)\n",
    "    \n",
    "right_justify('monty')"
   ]
  },
  {
   "cell_type": "code",
   "execution_count": null,
   "metadata": {
    "collapsed": false
   },
   "outputs": [],
   "source": [
    "def right_justify(s):\n",
    "    spaces = 70-len(s)\n",
    "    blank = ' '*spaces\n",
    "    blank = blank + s\n",
    "    print(blank)\n",
    "    print('# last character in space:', len(blank))\n",
    "    \n",
    "right_justify('monty')"
   ]
  },
  {
   "cell_type": "code",
   "execution_count": null,
   "metadata": {
    "collapsed": false
   },
   "outputs": [],
   "source": [
    ">>> def right_justify(word):\n",
    "...     length = len(word)\n",
    "...     space = ' '\n",
    "...     numberofspaces = 70-length\n",
    "...     final = space*numberofspaces\n",
    "...     print(final, end='')\n",
    "...     print(word)\n",
    "... \n",
    ">>> right_justify('helloworld')\n",
    "                                                            helloworld\n"
   ]
  },
  {
   "cell_type": "code",
   "execution_count": 35,
   "metadata": {
    "collapsed": false
   },
   "outputs": [],
   "source": [
    "def right_justify (s):\n",
    "    # this function takes a string and right justifies it to column 70\n",
    "    s = str(s)\n",
    "    length = len(s)\n",
    "    leading = 70 - length\n",
    "    for x in range(leading):\n",
    "        s = ' ' + s # simpler to do s + leading * ' ', but this allows for returning s if desired\n",
    "    print(s)\n",
    "    return\n",
    "\n",
    "\n",
    "right_justify('monty')"
   ]
  },
  {
   "cell_type": "code",
   "execution_count": 19,
   "metadata": {
    "collapsed": false
   },
   "outputs": [],
   "source": [
    "def right_justify(s):\n",
    "    length = len(s)\n",
    "    space = \" \" * (70-length)\n",
    "    print(space+s)\n",
    "\n",
    "\n",
    "right_justify(\"test\")"
   ]
  },
  {
   "cell_type": "code",
   "execution_count": 35,
   "metadata": {
    "collapsed": false
   },
   "outputs": [],
   "source": [
    "def right_justify(s):\n",
    "    \"\"\" Function that takes in String s and prints a number of spaces\n",
    "    so that the string ends on column 70\"\"\"\n",
    "    justification = ' '*(70-len(s))\n",
    "    print(justification + s)\n",
    "\n",
    "right_justify('monty')"
   ]
  },
  {
   "cell_type": "code",
   "execution_count": 12,
   "metadata": {
    "collapsed": false
   },
   "outputs": [],
   "source": [
    "def right_justify(s):\n",
    "    length = len(s)\n",
    "    Rstr = ' '*(70-length)+s\n",
    "    return Rstr\n",
    "\n",
    "print(right_justify('william'))"
   ]
  },
  {
   "cell_type": "code",
   "execution_count": 14,
   "metadata": {
    "collapsed": false
   },
   "outputs": [],
   "source": [
    "def right_justify():\n",
    "    m = (' '*65,'monty')\n",
    "    print(m)\n",
    "right_justify()"
   ]
  },
  {
   "cell_type": "code",
   "execution_count": null,
   "metadata": {
    "collapsed": true
   },
   "outputs": [],
   "source": [
    ">>> def right_justify(str):\n",
    "...     stringLength = len(str)\n",
    "...     print((\" \"*(70-stringLength)) + str)\n",
    "...     return\n",
    "... \n",
    "\n",
    ">>> right_justify(\"world\")\n",
    "                                                                 world"
   ]
  },
  {
   "cell_type": "code",
   "execution_count": 24,
   "metadata": {
    "collapsed": false
   },
   "outputs": [],
   "source": [
    "def right_justify(s):\n",
    "    print(' '*70, s)\n",
    "\n",
    "right_justify('s')"
   ]
  },
  {
   "cell_type": "code",
   "execution_count": 17,
   "metadata": {
    "collapsed": false
   },
   "outputs": [],
   "source": [
    "def right_justify(s):\n",
    "    length = len(s)\n",
    "    space = \" \"\n",
    "    spaces = 70 - length\n",
    "    \n",
    "    indent = spaces*space\n",
    "    justify = indent + s\n",
    "    \n",
    "    print(justify)\n",
    "\n",
    "right_justify('I think it worked')\n",
    "right_justify('double check')"
   ]
  },
  {
   "cell_type": "code",
   "execution_count": 10,
   "metadata": {
    "collapsed": false,
    "scrolled": true
   },
   "outputs": [],
   "source": [
    "def right_justify(s):\n",
    "    length = len(s)\n",
    "    print(\" \"*(70-length)+s)\n",
    "    \n",
    "right_justify('monty')"
   ]
  },
  {
   "cell_type": "code",
   "execution_count": 12,
   "metadata": {
    "collapsed": false
   },
   "outputs": [],
   "source": [
    "def right_justify(s):\n",
    "    print((70-len(s))* ' ' + s)\n",
    "right_justify('hello')"
   ]
  },
  {
   "cell_type": "code",
   "execution_count": 25,
   "metadata": {
    "collapsed": false
   },
   "outputs": [],
   "source": [
    "def right_justify(string): return (' ' * (70-len(string))) + string\n",
    "\n",
    "print (right_justify('testing12345'))"
   ]
  },
  {
   "cell_type": "code",
   "execution_count": 22,
   "metadata": {
    "collapsed": false
   },
   "outputs": [],
   "source": [
    "word = 'monty'\n",
    "\n",
    "\n",
    "def right_justify(word):\n",
    "    repeatNumber = 70 - len(word)\n",
    "    spaces = ' ' * repeatNumber\n",
    "    print(spaces + word)\n",
    "\n",
    "\n",
    "right_justify(word)\n"
   ]
  },
  {
   "cell_type": "code",
   "execution_count": 26,
   "metadata": {
    "collapsed": false
   },
   "outputs": [],
   "source": [
    "def right_justify(s):\n",
    "    length = len(s)\n",
    "    rep = 70-length\n",
    "    space = ' '\n",
    "    printString = space*rep+s\n",
    "    print(printString)\n",
    "\n",
    "    \n",
    "right_justify('monty')"
   ]
  },
  {
   "cell_type": "code",
   "execution_count": 13,
   "metadata": {
    "collapsed": false
   },
   "outputs": [],
   "source": [
    "def right_justify(s):\n",
    "    print (' '*(70-len(s))+s)\n",
    "right_justify('monty')"
   ]
  },
  {
   "cell_type": "code",
   "execution_count": null,
   "metadata": {
    "collapsed": false
   },
   "outputs": [],
   "source": [
    "def right_justify (x):\n",
    "     y= 70 - len (x)\n",
    "     z=' '*y+x\n",
    "    print z\n",
    "\n"
   ]
  },
  {
   "cell_type": "code",
   "execution_count": null,
   "metadata": {
    "collapsed": false
   },
   "outputs": [],
   "source": [
    "def right_justify(s):\n",
    "    spaces = 70-len(s)\n",
    "    s = ' '*spaces+s\n",
    "    print(s)"
   ]
  },
  {
   "cell_type": "code",
   "execution_count": null,
   "metadata": {
    "collapsed": true
   },
   "outputs": [],
   "source": [
    ">>> def right_justify(s):\n",
    "...     word_length=len(s)\n",
    "...     print(\" \"*(70-word_length)+s)\n",
    "... \n",
    ">>> right_justify('monty')\n",
    "                                                                 monty"
   ]
  },
  {
   "cell_type": "code",
   "execution_count": 2,
   "metadata": {
    "collapsed": false
   },
   "outputs": [],
   "source": [
    "def right_justify(a):\n",
    "    length = len(a)\n",
    "    print(' '*(70-length)+a)\n",
    "    \n",
    "right_justify('monty')"
   ]
  },
  {
   "cell_type": "code",
   "execution_count": 4,
   "metadata": {
    "collapsed": false
   },
   "outputs": [],
   "source": [
    "def right_justify(s):\n",
    "    string_length = len(s)\n",
    "    space = \" \"\n",
    "    number_spaces = 70-string_length\n",
    "    print(space*number_spaces+s)\n",
    "\n",
    "\n",
    "right_justify('monty')"
   ]
  },
  {
   "cell_type": "code",
   "execution_count": 13,
   "metadata": {
    "collapsed": false
   },
   "outputs": [],
   "source": [
    "def right_justify(s):\n",
    "    i=(70-len(s))\n",
    "    print(' '*i,s)\n",
    "right_justify(\"monty\")"
   ]
  },
  {
   "cell_type": "code",
   "execution_count": 3,
   "metadata": {
    "collapsed": false
   },
   "outputs": [],
   "source": [
    "def right_justify(string):\n",
    "    space = (' ')\n",
    "    print((space * (70 - len(string)) + string))\n",
    "\n",
    "right_justify('monty')"
   ]
  },
  {
   "cell_type": "code",
   "execution_count": 15,
   "metadata": {
    "collapsed": false
   },
   "outputs": [],
   "source": [
    "def right_justify(word):\n",
    "    space = ' '\n",
    "    number = 70 - len(word)\n",
    "    new = number * space + word\n",
    "    print(new)\n",
    "\n",
    "\n",
    "right_justify('monty')"
   ]
  },
  {
   "cell_type": "code",
   "execution_count": 33,
   "metadata": {
    "collapsed": false
   },
   "outputs": [],
   "source": [
    "def right_justify(s):\n",
    "    thing = len(s)\n",
    "    NumSpaces = 70-thing\n",
    "    print((\" \") * NumSpaces + s)\n",
    "\n",
    "right_justify(\"Jeremy\")"
   ]
  },
  {
   "cell_type": "code",
   "execution_count": 39,
   "metadata": {
    "collapsed": false
   },
   "outputs": [],
   "source": [
    "def right_justify(s):\n",
    "    index = len(s)\n",
    "    space = ' '\n",
    "    num = 70 - index\n",
    "    ans = space*num + s\n",
    "    print(ans)\n",
    "right_justify('monty')"
   ]
  },
  {
   "cell_type": "code",
   "execution_count": 38,
   "metadata": {
    "collapsed": false
   },
   "outputs": [],
   "source": [
    "def right_justify(s):\n",
    "    print(' '*(70-len(s)),s)\n",
    "right_justify('monty')"
   ]
  },
  {
   "cell_type": "code",
   "execution_count": 18,
   "metadata": {
    "collapsed": false
   },
   "outputs": [],
   "source": [
    "def right_justify(s, columnLen=70):\n",
    "    spacingNum = columnLen - len(s)\n",
    "    return \" \" * spacingNum + s\n",
    "\n",
    "print(right_justify(\"hi\"))"
   ]
  },
  {
   "cell_type": "code",
   "execution_count": null,
   "metadata": {
    "collapsed": false
   },
   "outputs": [],
   "source": [
    "def right_justify(s):\n",
    "         print((70-len(s))*' '+s)\n",
    "\n",
    "right_justify('s')"
   ]
  },
  {
   "cell_type": "code",
   "execution_count": 71,
   "metadata": {
    "collapsed": false
   },
   "outputs": [],
   "source": [
    "def right_justify(s):\n",
    "    space = ' '\n",
    "    print((70-len(s))*space, s)\n",
    "\n",
    "right_justify('bleepbloop')"
   ]
  },
  {
   "cell_type": "code",
   "execution_count": 14,
   "metadata": {
    "collapsed": false
   },
   "outputs": [],
   "source": [
    "def right_justify(s):\n",
    "    length = len(s)\n",
    "    print(' ' * (70 - length), s)\n",
    "right_justify('monty')\n"
   ]
  },
  {
   "cell_type": "code",
   "execution_count": 1,
   "metadata": {
    "collapsed": false
   },
   "outputs": [],
   "source": [
    "# parameters:\n",
    "# s: string to right justify (string)\n",
    "# j: distance to right justify (integer)\n",
    "# prints out string s justified to the right j characters\n",
    "def right_justify(s,j):\n",
    "    l = len(s)\n",
    "    space = j - l\n",
    "    print(' '*space + s)\n",
    "    \n",
    "right_justify('perambulator',70)"
   ]
  },
  {
   "cell_type": "code",
   "execution_count": 48,
   "metadata": {
    "collapsed": false
   },
   "outputs": [],
   "source": [
    "def right_justify(text):\n",
    "    textLength = len(text)\n",
    "    rightCol = 70\n",
    "    numSpaces = rightCol - textLength\n",
    "    spaces = ' ' * numSpaces\n",
    "    print(spaces + text)\n",
    "    \n",
    "    \n",
    "right_justify('monty')"
   ]
  },
  {
   "cell_type": "markdown",
   "metadata": {},
   "source": [
    "Format method: "
   ]
  },
  {
   "cell_type": "code",
   "execution_count": 89,
   "metadata": {
    "collapsed": false
   },
   "outputs": [],
   "source": [
    "def right_justify(s):\n",
    "    print (\" \"*(70-len(s))+ s)\n",
    "\n",
    "right_justify('monty')"
   ]
  },
  {
   "cell_type": "code",
   "execution_count": 13,
   "metadata": {
    "collapsed": false
   },
   "outputs": [],
   "source": [
    "def right_justify(s):\n",
    "    length = len(s)\n",
    "    print(\" \"*(70-length) + s)"
   ]
  },
  {
   "cell_type": "code",
   "execution_count": 35,
   "metadata": {
    "collapsed": false
   },
   "outputs": [],
   "source": [
    "def right_justify(s):\n",
    "    string = len('s')\n",
    "    space = ' '\n",
    "    print(((70-string)*space) + s)\n",
    "    \n",
    "\n",
    "right_justify('kerry')"
   ]
  },
  {
   "cell_type": "markdown",
   "metadata": {
    "is_question": true
   },
   "source": [
    "### Exercise 3.3\n",
    "\n",
    "Note: This exercise should be done using only the statements and other features we have learned so far.\n",
    "\n",
    "1\\. Write a function that draws a grid like the following:\n",
    "\n",
    "```\n",
    "+ - - - - + - - - - +\n",
    "|         |         |\n",
    "|         |         |\n",
    "|         |         |\n",
    "|         |         |\n",
    "+ - - - - + - - - - +\n",
    "|         |         |\n",
    "|         |         |\n",
    "|         |         |\n",
    "|         |         |\n",
    "+ - - - - + - - - - +\n",
    "```\n",
    "Note: There are four empty spaces between the vertical bars.\n",
    "\n",
    "To print more than one value on a line, you can print a comma-separated sequence of values:\n",
    "\n",
    "```\n",
    "print('+', '-')\n",
    "```\n",
    "\n",
    "By default, `print` advances to the next line, but you can override that behavior and put a space at the end, like this:\n",
    "\n",
    "```\n",
    "print('+', end=' ')\n",
    "print('-')\n",
    "```\n",
    "\n",
    "The output of these statements is '+ -'.\n",
    "\n",
    "A `print` statement with no argument ends the current line and goes to the next line."
   ]
  },
  {
   "cell_type": "code",
   "execution_count": 3,
   "metadata": {
    "collapsed": false
   },
   "outputs": [],
   "source": [
    "print(\"+ - - - - + - - - - +\")\n",
    "print(\"|         |         |\")\n",
    "print(\"|         |         |\")\n",
    "print(\"|         |         |\")\n",
    "print(\"|         |         |\")\n",
    "print(\"+ - - - - + - - - - +\")\n",
    "print(\"|         |         |\")\n",
    "print(\"|         |         |\")\n",
    "print(\"|         |         |\")\n",
    "print(\"|         |         |\")\n",
    "print(\"+ - - - - + - - - - +\")"
   ]
  },
  {
   "cell_type": "code",
   "execution_count": null,
   "metadata": {
    "collapsed": true
   },
   "outputs": [],
   "source": [
    ">>> def gridthingy():\n",
    "...     lin1 = '+ - - - - + - - - - +'\n",
    "...     space = ' '\n",
    "...     linvert = '|' + 9 * space + '|' + 9 * space + '|'\n",
    "...     print(lin1)\n",
    "...     print(linvert)\n",
    "...     print(linvert)\n",
    "...     print(linvert)\n",
    "...     print(linvert)\n",
    "...     print(lin1)\n",
    "...     print(linvert)\n",
    "...     print(linvert)\n",
    "...     print(linvert)\n",
    "...     print(linvert)\n",
    "...     print(lin1)\n",
    "... \n",
    ">>> gridthingy()\n",
    "+ - - - - + - - - - +\n",
    "|         |         |\n",
    "|         |         |\n",
    "|         |         |\n",
    "|         |         |\n",
    "+ - - - - + - - - - +\n",
    "|         |         |\n",
    "|         |         |\n",
    "|         |         |\n",
    "|         |         |\n",
    "+ - - - - + - - - - +"
   ]
  },
  {
   "cell_type": "code",
   "execution_count": 32,
   "metadata": {
    "collapsed": false
   },
   "outputs": [],
   "source": [
    "def top():\n",
    "    x = '- '*4\n",
    "    print('+ ',x,'+ ',x,'+ ')\n",
    "    \n",
    "\n",
    "def middle():\n",
    "    x = '|          '\n",
    "    #10 spaces between each | because it looked better\n",
    "    print(x,x,'|')\n",
    "    print(x,x,'|')\n",
    "    print(x,x,'|')\n",
    "    print(x,x,'|')\n",
    "    \n",
    "\n",
    "top()\n",
    "middle()\n",
    "top()\n",
    "middle()\n",
    "top()\n",
    "    "
   ]
  },
  {
   "cell_type": "code",
   "execution_count": 53,
   "metadata": {
    "collapsed": false
   },
   "outputs": [],
   "source": [
    "def vertical():\n",
    "    print('|         ', end=' ')\n",
    "    print('|         ', end=' ')\n",
    "    print('|')\n",
    "    \n",
    "def horizontal():\n",
    "    print('+ - - - - ', end=' ')\n",
    "    print('+ - - - - ', end=' ')\n",
    "    print('+')\n",
    "\n",
    "def grid():\n",
    "    horizontal()\n",
    "    vertical()\n",
    "    vertical()\n",
    "    vertical()\n",
    "    vertical()\n",
    "    horizontal()\n",
    "    vertical()\n",
    "    vertical()\n",
    "    vertical()\n",
    "    vertical()\n",
    "    horizontal()\n",
    "    \n",
    "grid()\n"
   ]
  },
  {
   "cell_type": "code",
   "execution_count": 30,
   "metadata": {
    "collapsed": false
   },
   "outputs": [],
   "source": [
    "def gridfunct():\n",
    "    PatternA = ('+ ')+('- '*4)+('+ ')+('- '*4)+('+')\n",
    "    PatternB = ('|')+(' '*9)+('|')+(' '*9)+('|')\n",
    "    print(PatternA)\n",
    "    print(PatternB)\n",
    "    print(PatternB)\n",
    "    print(PatternB)\n",
    "    print(PatternB)\n",
    "    print(PatternA)\n",
    "    print(PatternB)\n",
    "    print(PatternB)\n",
    "    print(PatternB)\n",
    "    print(PatternB)\n",
    "    print(PatternA)\n",
    "    \n",
    "gridfunct()"
   ]
  },
  {
   "cell_type": "code",
   "execution_count": null,
   "metadata": {
    "collapsed": true
   },
   "outputs": [],
   "source": [
    "def drawGrid2():\n",
    "    dash = '-'\n",
    "    spaces = ' '\n",
    "    dash = dash*4\n",
    "    spaces = spaces * 4\n",
    "    top = '+'+dash\n",
    "    top =  top*2 + '+'\n",
    "    middle = '|' + spaces\n",
    "    middle = middle*2 + '|'\n",
    "    print(top)\n",
    "    print(middle)\n",
    "    print(middle)\n",
    "    print(middle)\n",
    "    print(middle)\n",
    "    print(top)\n",
    "    print(middle)\n",
    "    print(middle)\n",
    "    print(middle)\n",
    "    print(middle)\n",
    "    print(top)\n",
    "    \n",
    "drawGrid2()"
   ]
  },
  {
   "cell_type": "code",
   "execution_count": null,
   "metadata": {
    "collapsed": true
   },
   "outputs": [],
   "source": [
    ">>> def square_funk():\n",
    "...     horizontal = '+----'\n",
    "...     horizontal1 = 2*horizontal + '+'\n",
    "...     vertical = '|    '\n",
    "...     vertical1 = 2*vertical + '|'\n",
    "...     print(horizontal1)\n",
    "...     print(vertical1)\n",
    "...     print(vertical1)\n",
    "...     print(vertical1)\n",
    "...     print(vertical1)\n",
    "...     print(horizontal1)\n",
    "...     print(vertical1)\n",
    "...     print(vertical1)\n",
    "...     print(vertical1)\n",
    "...     print(vertical1)\n",
    "...     print(horizontal1)\n",
    "... \n",
    ">>>     \n",
    "... \n",
    ">>> square_funk()\n",
    "+----+----+\n",
    "|    |    |\n",
    "|    |    |\n",
    "|    |    |\n",
    "|    |    |\n",
    "+----+----+\n",
    "|    |    |\n",
    "|    |    |\n",
    "|    |    |\n",
    "|    |    |\n",
    "+----+----+\n"
   ]
  },
  {
   "cell_type": "code",
   "execution_count": 22,
   "metadata": {
    "collapsed": false
   },
   "outputs": [],
   "source": [
    "def grid(x,y):\n",
    "    i = 0\n",
    "    while i < y:\n",
    "        print(x*'+ - - - - ', end='')\n",
    "        print('+')\n",
    "        j=0\n",
    "        while j < 4:\n",
    "            print(x*'|         ', end='')\n",
    "            print('|')\n",
    "            j+=1\n",
    "        i+=1\n",
    "    print(x*'+ - - - - ', end='')\n",
    "    print('+')\n",
    "\n",
    "x=2\n",
    "y=2\n",
    "grid(x,y)"
   ]
  },
  {
   "cell_type": "code",
   "execution_count": 14,
   "metadata": {
    "collapsed": false
   },
   "outputs": [],
   "source": [
    "def one():\n",
    "    #set variable\n",
    "    pluses = \"+ - - - - + - - - - +\"\n",
    "    spaces = \"|         |         |\"\n",
    "    #print the variables\n",
    "    print(pluses)\n",
    "    print(spaces)\n",
    "    print(spaces)\n",
    "    print(spaces)\n",
    "    print(spaces)\n",
    "    print(pluses)\n",
    "    print(spaces)\n",
    "    print(spaces)\n",
    "    print(spaces)\n",
    "    print(spaces)\n",
    "    print(pluses)"
   ]
  },
  {
   "cell_type": "code",
   "execution_count": 57,
   "metadata": {
    "collapsed": false
   },
   "outputs": [],
   "source": [
    "def print_hor():\n",
    "    print('+','- '*4,'+','- '*3,'-','+')\n",
    "\n",
    "    \n",
    "def print_ver():\n",
    "    print('|',' '*8,'|',' '*8,'|')\n",
    "    \n",
    "def print_ver_four():\n",
    "    print_ver()\n",
    "    print_ver()\n",
    "    print_ver()\n",
    "    print_ver()\n",
    "      \n",
    "print_hor()\n",
    "print_ver_four()\n",
    "print_hor()\n",
    "print_ver_four()\n",
    "print_hor()"
   ]
  },
  {
   "cell_type": "code",
   "execution_count": 13,
   "metadata": {
    "collapsed": false
   },
   "outputs": [],
   "source": [
    "def grid():\n",
    "    plusline = \"+ - - - - + - - - - + - - - - + - - - - +\"\n",
    "    spacelin = \"|         |         |         |         |\"\n",
    "    \n",
    "    \n",
    "    print(plusline)\n",
    "    print(spacelin)\n",
    "    print(spacelin)\n",
    "    print(spacelin)\n",
    "    print(spacelin)\n",
    "    print(plusline)\n",
    "    print(spacelin)\n",
    "    print(spacelin)\n",
    "    print(spacelin)\n",
    "    print(spacelin)\n",
    "    print(plusline)\n",
    "    print(spacelin)\n",
    "    print(spacelin)\n",
    "    print(spacelin)\n",
    "    print(spacelin)\n",
    "    print(plusline)\n",
    "    print(spacelin)\n",
    "    print(spacelin)\n",
    "    print(spacelin)\n",
    "    print(spacelin)\n",
    "    print(plusline)\n",
    "    \n",
    "grid()"
   ]
  },
  {
   "cell_type": "code",
   "execution_count": 29,
   "metadata": {
    "collapsed": false
   },
   "outputs": [],
   "source": [
    "def do_four(f):\n",
    "    print(f)\n",
    "    print(f)\n",
    "    print(f)\n",
    "    print(f)\n",
    "def four_grid():\n",
    "    beam = '+ - - - - '\n",
    "    post = '|         '\n",
    "    col1 = beam*2 + '+'\n",
    "    col2 = post*2 + '|'\n",
    "    print(col1)\n",
    "    do_four(col2)\n",
    "    print(col1)\n",
    "    do_four(col2)\n",
    "    print(col1)\n",
    "four_grid()"
   ]
  },
  {
   "cell_type": "code",
   "execution_count": 50,
   "metadata": {
    "collapsed": false,
    "scrolled": true
   },
   "outputs": [],
   "source": [
    "# Top secret helper function\n",
    "# This is real bad, but oh well...¯\\_(ツ)_/¯\n",
    "def print_grid(num):\n",
    "    for row in range(0,num+1):\n",
    "        for column in range (0,num):\n",
    "            print ('+',end=' ')\n",
    "            if column < num:\n",
    "                print ('- '*4,end='')\n",
    "        print('+')\n",
    "        if row < num:\n",
    "            for y in range(0,4):\n",
    "                for column in range(0,num):\n",
    "                    print('|',end='')\n",
    "                    print(' '*9,end='')\n",
    "                print('|')\n",
    "\n",
    "def print_two_grid(): print_grid(2)               "
   ]
  },
  {
   "cell_type": "code",
   "execution_count": 61,
   "metadata": {
    "collapsed": false
   },
   "outputs": [],
   "source": [
    "def box():\n",
    "    print(\"+ \", '- '*4, '+ ', '- '*4, '+', end=' ')\n",
    "    print()\n",
    "    print('|', ' '*9, '|', ' '*9, '|')\n",
    "    print('|', ' '*9, '|', ' '*9, '|')\n",
    "    print('|', ' '*9, '|', ' '*9, '|') \n",
    "    print('|', ' '*9, '|', ' '*9, '|', end=' ')\n",
    "    print()\n",
    "    print(\"+ \", '- '*4, '+ ', '- '*4, '+', end=' ')\n",
    "    print()\n",
    "    print('|', ' '*9, '|', ' '*9, '|')\n",
    "    print('|', ' '*9, '|', ' '*9, '|')\n",
    "    print('|', ' '*9, '|', ' '*9, '|')\n",
    "    print('|', ' '*9, '|', ' '*9, '|', end='')\n",
    "    print()\n",
    "    print(\"+ \", '- '*4, '+ ', '- '*4, '+')\n",
    "\n",
    "\n",
    "box()\n",
    "#I tried to get the right spacing between the vertical lines but I \n",
    "#I couldn't get them quite right, I tried ending between each line, \n",
    "#I tried just printing, nothing made it quite right"
   ]
  },
  {
   "cell_type": "code",
   "execution_count": 50,
   "metadata": {
    "collapsed": false
   },
   "outputs": [],
   "source": [
    "def double(f):\n",
    "    f()\n",
    "    f()\n",
    "\n",
    "def four_times(f):\n",
    "    double(f)\n",
    "    double(f)\n",
    "\n",
    "def plus_part():\n",
    "    print ('+ - - - - ', end=' ')\n",
    "\n",
    "def vertical_part():\n",
    "    print ('|         ', end=' ')\n",
    "    \n",
    "def plus_parts():\n",
    "    double(plus_part)\n",
    "    print ('+')\n",
    "    \n",
    "def vertical_parts():\n",
    "    double(vertical_part)\n",
    "    print('|')\n",
    "\n",
    "def half_parts():\n",
    "    plus_parts()\n",
    "    four_times(vertical_parts)\n",
    "    \n",
    "def grid():\n",
    "    double(half_parts)\n",
    "    plus_parts()\n",
    "    \n",
    "grid()\n",
    "    \n",
    "    \n",
    "    "
   ]
  },
  {
   "cell_type": "code",
   "execution_count": null,
   "metadata": {
    "collapsed": true
   },
   "outputs": [],
   "source": [
    " def rectp(n,c):\n",
    "    print (('+'+(' -'*4)+' ')*n+'+')\n",
    "    def rectc(c):\n",
    "        for i in range (0,c):\n",
    "            print(('|'+' '*8)*n+'|')\n",
    "            print(('|'+' '*8)*n+'|')\n",
    "            print(('|'+' '*8)*n+'|')\n",
    "            print(('|'+' '*8)*n+'|')\n",
    "            print (('+'+(' -'*4)+' ')*n+'+')\n",
    "    rectc(c)\n",
    "\n"
   ]
  },
  {
   "cell_type": "code",
   "execution_count": null,
   "metadata": {
    "collapsed": true
   },
   "outputs": [],
   "source": [
    "def grid():\n",
    "    plus = '+'+' -'*4+' +'+' -'*4+ ' +'\n",
    "    minus = '|'+' '*9+'|'+' '*9+'|'\n",
    "    print(plus)\n",
    "    print(minus)\n",
    "    print(minus)\n",
    "    print(minus)\n",
    "    print(minus)\n",
    "    print(plus)\n",
    "    print(minus)\n",
    "    print(minus)\n",
    "    print(minus)\n",
    "    print(minus)\n",
    "    print(plus)"
   ]
  },
  {
   "cell_type": "code",
   "execution_count": 13,
   "metadata": {
    "collapsed": false
   },
   "outputs": [],
   "source": [
    "def draw_grid():\n",
    "    print('+',' -'*4,' +',' -'*4,' +')\n",
    "    print('|',' '*9,'|',' '*9,'|')\n",
    "    print('|',' '*9,'|',' '*9,'|')\n",
    "    print('|',' '*9,'|',' '*9,'|')\n",
    "    print('|',' '*9,'|',' '*9,'|')\n",
    "    print('+',' -'*4,' +',' -'*4,' +')\n",
    "    print('|',' '*9,'|',' '*9,'|')\n",
    "    print('|',' '*9,'|',' '*9,'|')\n",
    "    print('|',' '*9,'|',' '*9,'|')\n",
    "    print('|',' '*9,'|',' '*9,'|')\n",
    "    print('+',' -'*4,' +',' -'*4,' +')\n",
    "\n",
    "draw_grid()"
   ]
  },
  {
   "cell_type": "code",
   "execution_count": 5,
   "metadata": {
    "collapsed": false
   },
   "outputs": [],
   "source": [
    "def grid_func():\n",
    "    line_1 = '+'+(4*'-')+'+'+(4*'-')+'+'\n",
    "    line_2 = '|'+(4*' ')+'|'+(4*' ')+'|'\n",
    "    print(line_1)\n",
    "    print(line_2)\n",
    "    print(line_2)\n",
    "    print(line_2)\n",
    "    print(line_2)\n",
    "    print(line_1)\n",
    "    print(line_2)\n",
    "    print(line_2)\n",
    "    print(line_2)\n",
    "    print(line_2)\n",
    "    print(line_1)\n",
    "\n",
    "\n",
    "grid_func()"
   ]
  },
  {
   "cell_type": "code",
   "execution_count": 42,
   "metadata": {
    "collapsed": false
   },
   "outputs": [],
   "source": [
    "def grid2x2 ():\n",
    "    # Prints a grid. function is designed to be easily scalable.\n",
    "    boxlen = 5       # could make gridsize and boxlen arguments so user could choose size\n",
    "    gridsize = 2\n",
    "    gridlen = boxlen * gridsize + 1\n",
    "    for y in range(gridlen):\n",
    "        for x in range(gridlen):\n",
    "            if y % boxlen == 0:\n",
    "                if x % boxlen == 0:\n",
    "                    print('+', end=' ')\n",
    "                else:\n",
    "                    print('-', end=' ')\n",
    "            else:\n",
    "                if x % boxlen == 0:\n",
    "                    print('|', end=' ')\n",
    "                else:\n",
    "                    print(' ', end=' ')\n",
    "        print('')\n",
    "    return()\n",
    "            \n",
    "                    \n",
    "grid2x2()"
   ]
  },
  {
   "cell_type": "code",
   "execution_count": 64,
   "metadata": {
    "collapsed": false
   },
   "outputs": [],
   "source": [
    "def window():\n",
    "    \n",
    "    inside = \"|\"+ 4*\" \" + \"|\" + 4*\" \" + \"|\"\n",
    "    def printinside():\n",
    "        print(inside)\n",
    "        print(inside)\n",
    "        print(inside)\n",
    "        print(inside)\n",
    "    \n",
    "    outside = \"+\" + 4*\"-\" + \"+\" + 4*\"-\" + \"+\"\n",
    "    def printoutside():\n",
    "            print(outside)\n",
    "    \n",
    "    \n",
    "    printoutside()\n",
    "    printinside()\n",
    "    printoutside()\n",
    "    printinside()\n",
    "    printoutside()\n",
    "\n",
    "window()"
   ]
  },
  {
   "cell_type": "code",
   "execution_count": 37,
   "metadata": {
    "collapsed": false
   },
   "outputs": [],
   "source": [
    "def print_strut(n):\n",
    "    print ('+' + ('-' * n) + '+' + ('-'*n) + '+')\n",
    "\n",
    "\n",
    "def print_interior(n):\n",
    "    print ('|' + (' ' * n) + '|' + (' '*n) + '|')\n",
    "\n",
    "def print_box():\n",
    "    print_strut(4)\n",
    "    print_interior(4)\n",
    "    print_interior(4)\n",
    "    print_interior(4)\n",
    "    print_interior(4)\n",
    "    print_strut(4)\n",
    "    print_interior(4)\n",
    "    print_interior(4)\n",
    "    print_interior(4)\n",
    "    print_interior(4)\n",
    "    print_strut(4)\n",
    "\n",
    "\n",
    "print_box()"
   ]
  },
  {
   "cell_type": "code",
   "execution_count": 40,
   "metadata": {
    "collapsed": false
   },
   "outputs": [],
   "source": [
    "print('+','-'*4,'+','-'*4,'+')\n",
    "print('|',' '*4,'|',' '*4,'|')\n",
    "print('|',' '*4,'|',' '*4,'|')\n",
    "print('|',' '*4,'|',' '*4,'|')\n",
    "print('+','-'*4,'+','-'*4,'+')\n",
    "print('|',' '*4,'|',' '*4,'|')\n",
    "print('|',' '*4,'|',' '*4,'|')\n",
    "print('|',' '*4,'|',' '*4,'|')\n",
    "print('+','-'*4,'+','-'*4,'+')"
   ]
  },
  {
   "cell_type": "code",
   "execution_count": 22,
   "metadata": {
    "collapsed": false
   },
   "outputs": [],
   "source": [
    "print(\"+ - - - - + - - - - +\\n\\\n",
    "|         |         |\\n\\\n",
    "|         |         |\\n\\\n",
    "|         |         |\\n\\\n",
    "|         |         |\\n\\\n",
    "+ - - - - + - - - - +\\n\\\n",
    "|         |         |\\n\\\n",
    "|         |         |\\n\\\n",
    "|         |         |\\n\\\n",
    "|         |         |\\n\\\n",
    "+ - - - - + - - - - +\"\n",
    "     )"
   ]
  },
  {
   "cell_type": "code",
   "execution_count": 5,
   "metadata": {
    "collapsed": false
   },
   "outputs": [],
   "source": [
    "top = '+ - - - - + - - - - +'\n",
    "mid = '|         |         |'\n",
    "\n",
    "def grid_draw():\n",
    "    print (top)\n",
    "    print (mid)\n",
    "    print (mid)\n",
    "    print (mid)\n",
    "    print (mid)\n",
    "    print (top)\n",
    "    print (mid)\n",
    "    print (mid)\n",
    "    print (mid)\n",
    "    print (mid)\n",
    "    print (top)\n",
    "    \n",
    "    \n",
    "grid_draw()\n"
   ]
  },
  {
   "cell_type": "code",
   "execution_count": 82,
   "metadata": {
    "collapsed": false
   },
   "outputs": [],
   "source": [
    "dashbar = '- - - -'\n",
    "spacebar = '       '\n",
    "plus = '+'\n",
    "vert = '|'\n",
    "space = ' '\n",
    "\n",
    "def horizontal_bar():\n",
    "    print(plus, dashbar, plus, dashbar, plus)\n",
    "    \n",
    "def vert_bar_line():\n",
    "    print(vert, spacebar, vert, spacebar, vert)\n",
    "    \n",
    "def vert_bar_set():\n",
    "    vert_bar_line()\n",
    "    vert_bar_line()\n",
    "    vert_bar_line()\n",
    "    vert_bar_line()\n",
    "    \n",
    "horizontal_bar()\n",
    "vert_bar_set()\n",
    "horizontal_bar()\n",
    "vert_bar_set()\n",
    "horizontal_bar()"
   ]
  },
  {
   "cell_type": "code",
   "execution_count": 52,
   "metadata": {
    "collapsed": false
   },
   "outputs": [],
   "source": [
    "def support():\n",
    "    print('+',end=' ')\n",
    "    print('- '* 4,end='')\n",
    "    print('+',end=' ')\n",
    "    print('- ' * 4,end='')\n",
    "    print('+')\n",
    "def pane():\n",
    "    print('|',end='')\n",
    "    print('  ' * 4,end=' ')\n",
    "    print('|',end='')\n",
    "    print('  ' * 4,end=' ')\n",
    "    print('|')\n",
    "def makeWindow():\n",
    "    support()\n",
    "    pane()\n",
    "    pane()\n",
    "    pane()\n",
    "    pane()\n",
    "    support()\n",
    "    pane()\n",
    "    pane()\n",
    "    pane()\n",
    "    pane()\n",
    "    support()\n",
    "makeWindow()"
   ]
  },
  {
   "cell_type": "code",
   "execution_count": 11,
   "metadata": {
    "collapsed": false
   },
   "outputs": [],
   "source": [
    "#parameters:\n",
    "# r: # of rows in grid\n",
    "# c: number of columns in grid\n",
    "# prints out a grid of r rows and c columns\n",
    "def draw_grid(r,c):\n",
    "    \n",
    "    # Exception case\n",
    "    if (r == 0) or (c == 0):\n",
    "        print(\"ERROR: invalid dimensions given\")\n",
    "        return\n",
    "        \n",
    "    # Defining grid lines\n",
    "    line_1 = '+' + ' - - - - +'*c\n",
    "    line_2 = '|' + '         |'*c\n",
    "    \n",
    "    # Printing grid\n",
    "    print(line_1)\n",
    "    for i in range(0,r):\n",
    "        for i in range (0,4):\n",
    "            print(line_2)\n",
    "        print(line_1)\n",
    "\n",
    "draw_grid(2,2)"
   ]
  },
  {
   "cell_type": "code",
   "execution_count": 88,
   "metadata": {
    "collapsed": false
   },
   "outputs": [],
   "source": [
    "def drawGrid(rows, cols):\n",
    "    grid = (((('+ - - - - ' * cols) + '+\\n') + (('|         ' * cols + '|\\n') * 4))*rows) + (('+ - - - - ' * cols) + '+')\n",
    "    print(grid)\n",
    "\n",
    "drawGrid(2,2)\n"
   ]
  },
  {
   "cell_type": "code",
   "execution_count": 50,
   "metadata": {
    "collapsed": false
   },
   "outputs": [],
   "source": [
    "def stuff(a):\n",
    "    x = '|         '+'|         '+'|'\n",
    "    y = '+ '+'- '*4+'+ '+'- '*4+'+'\n",
    "    print(y)\n",
    "    print(x+'\\n'+x+'\\n'+x+'\\n'+x)\n",
    "    print(y)\n",
    "    print(x+'\\n'+x+'\\n'+x+'\\n'+x)\n",
    "    print(y)\n",
    "stuff('hello')"
   ]
  },
  {
   "cell_type": "code",
   "execution_count": 112,
   "metadata": {
    "collapsed": false
   },
   "outputs": [],
   "source": [
    "def print_horizontal_edge(): #length = 2 units\n",
    "    print(('+ ' + '- '*4)*2, end='')\n",
    "    print('+')\n",
    "    \n",
    "def print_horizontal_bars():\n",
    "    print(('|' + ' '*9)*2, end='') \n",
    "    print('|')\n",
    "\n",
    "def do_twice(f):\n",
    "    f()\n",
    "    f()\n",
    "def do_four_times(f):\n",
    "    do_twice(f)\n",
    "    do_twice(f)\n",
    "\n",
    "def print_grid_row():\n",
    "    print_horizontal_edge()\n",
    "    do_four_times(print_horizontal_bars)\n",
    "    \n",
    "def print_grid(): #2x2\n",
    "    do_twice(print_grid_row)\n",
    "    print_horizontal_edge()\n",
    "    \n",
    "print_grid()"
   ]
  },
  {
   "cell_type": "code",
   "execution_count": 28,
   "metadata": {
    "collapsed": false,
    "scrolled": true
   },
   "outputs": [],
   "source": [
    "def grid_symbols():\n",
    "    print('+', 4*'- ', '+', 4*'- ', '+', end =' ')\n",
    "    print()\n",
    "    print('|', 8*' ', '|', 8*' ', '|', end =' ')\n",
    "    print()\n",
    "    print('|', 8*' ', '|', 8*' ', '|', end =' ')\n",
    "    print()\n",
    "    print('|', 8*' ', '|', 8*' ', '|', end =' ')\n",
    "    print()\n",
    "    print('|', 8*' ', '|', 8*' ', '|', end =' ')\n",
    "    print()\n",
    "    print('+', 4*'- ', '+', 4*'- ', '+', end =' ')\n",
    "    print()\n",
    "    print('|', 8*' ', '|', 8*' ', '|', end =' ')\n",
    "    print()\n",
    "    print('|', 8*' ', '|', 8*' ', '|', end =' ')\n",
    "    print()\n",
    "    print('|', 8*' ', '|', 8*' ', '|', end =' ')\n",
    "    print()\n",
    "    print('|', 8*' ', '|', 8*' ', '|', end =' ')\n",
    "    print()\n",
    "    print('+', 4*'- ', '+', 4*'- ', '+', end =' ')\n",
    "    print()\n",
    "    \n",
    "grid_symbols()"
   ]
  },
  {
   "cell_type": "markdown",
   "metadata": {
    "is_question": true
   },
   "source": [
    "### Exercise 5.2\n",
    "\n",
    "Fermat’s Last Theorem says that there are no positive integers $a$, $b$, and $c$ such that $$a^n + b^n = c^n$$ for any values of $n$ greater than 2.\n",
    "\n",
    "1\\. Write a function named `check_fermat` that takes four parameters – $a$, $b$, $c$ and $n$ – and that checks to see if Fermat’s theorem holds. If n is greater than 2 and it turns out to be true that\n",
    "$a^n + b^n = c^n$, then the program should print: \"Holy smokes, Fermat was wrong!\" Otherwise the program should print: \"No, that doesn’t work.\""
   ]
  },
  {
   "cell_type": "code",
   "execution_count": 13,
   "metadata": {
    "collapsed": false
   },
   "outputs": [],
   "source": [
    "import math\n",
    "\n",
    "def check_fermat(a, b, c, n):\n",
    "  if (n >= 2) and (a**n + b**n == c**n):\n",
    "    print(\"Holy smokes, Fermat was wrong!\")\n",
    "  else:\n",
    "    print(\"No, that doesn't work.\")\n",
    "    \n",
    "check_fermat(2, 3, 4, 2)"
   ]
  },
  {
   "cell_type": "code",
   "execution_count": null,
   "metadata": {
    "collapsed": true
   },
   "outputs": [],
   "source": [
    ">>> def check_fermat(a, b, c, n):\n",
    "...     if(n > 2 and a**n + b**n == c**n):\n",
    "...         print('OH BOY! Fermat was wrong!!')\n",
    "...     else:\n",
    "...         print(\"Nope, doesn't work.\")\n",
    "... \n",
    ">>> check_fermat(2,5,7,3)\n",
    "Nope, doesn't work.\n"
   ]
  },
  {
   "cell_type": "code",
   "execution_count": 47,
   "metadata": {
    "collapsed": false
   },
   "outputs": [],
   "source": [
    "def check_fermat(a,b,c,n):\n",
    "    if a^n +  b^n == c^n and n>2:\n",
    "        print(\"Holy Smokes, Fermat was wrong!\")\n",
    "    else:\n",
    "        print(\"No, that doesn't work.\")\n",
    "        \n",
    "check_fermat(1,5,7,17)"
   ]
  },
  {
   "cell_type": "code",
   "execution_count": 93,
   "metadata": {
    "collapsed": false
   },
   "outputs": [],
   "source": [
    "def check_fermat(a,b,c,n):\n",
    "        if a**n + b**n == c**n:\n",
    "            print('Holy smokes, Fermat was wrong!')\n",
    "        else:\n",
    "            print(\"No, that doesn't work. Fermat is right.\")\n",
    "        \n",
    "check_fermat(1,2,3,1)\n",
    "      "
   ]
  },
  {
   "cell_type": "code",
   "execution_count": 2,
   "metadata": {
    "collapsed": true
   },
   "outputs": [],
   "source": [
    "def check_fermat(a,b,c,n):\n",
    "    if (a**n)+(b**n)==(c**n): \n",
    "        if c > 2:\n",
    "            print('Holy smokes, Fermat was Wrong!')\n",
    "        \n",
    "        else:\n",
    "            print('Fermat said this would work')\n",
    "            \n",
    "    else: \n",
    "        print('No, that does not work')\n",
    "            \n"
   ]
  },
  {
   "cell_type": "code",
   "execution_count": null,
   "metadata": {
    "collapsed": true
   },
   "outputs": [],
   "source": [
    "def check_fermat(a,b,c,n):\n",
    "    if(n>2):\n",
    "        a = a**n\n",
    "        b = b**n\n",
    "        c = c**n\n",
    "        if(a+b == c):\n",
    "            print('Holy smokes, Fermat was wrong!')\n",
    "        else:\n",
    "            print(\"No, that doesn't work\")\n",
    "    else:\n",
    "        print(\"No, that doesn't work\")"
   ]
  },
  {
   "cell_type": "code",
   "execution_count": null,
   "metadata": {
    "collapsed": true
   },
   "outputs": [],
   "source": [
    "def check_fermat(a,b,c,n):\n",
    " \n",
    " \n",
    "    a = int(a)\n",
    "    print(a)\n",
    "    \n",
    "    b = int(b)\n",
    "    print(b)\n",
    "    \n",
    "    c = int(c)\n",
    "    print(c)\n",
    "    \n",
    "    n = int(n)\n",
    "    print(n)\n",
    "    if n <= 2:\n",
    "        print(\"Please make n greater than 2\")\n",
    "    test = a**n + b **n\n",
    "    test1 = c**n\n",
    "    if test == test1:\n",
    "        print(\"Holy smokes, Fermat was wrong!\")\n",
    "    else:\n",
    "        print(\"No, that doesn't work\")\n",
    "\n",
    "        "
   ]
  },
  {
   "cell_type": "code",
   "execution_count": 26,
   "metadata": {
    "collapsed": false
   },
   "outputs": [],
   "source": [
    "def check_fermat(a,b,c,n):\n",
    "    if(n > 2): \n",
    "        if(a**n + b**n == c**n):\n",
    "            print(\"Holy smokes, Fermat was wrong!\")\n",
    "        else:\n",
    "            print(\"No, that doesn’t work.\")\n",
    "    else:\n",
    "        print(\"please put in an exponent of greater than 2\")\n",
    "\n",
    "check_fermat(3,4,5,4)"
   ]
  },
  {
   "cell_type": "code",
   "execution_count": null,
   "metadata": {
    "collapsed": true
   },
   "outputs": [],
   "source": [
    "def check_fermat(a, b, c, n):\n",
    "    #calculate left and right sides\n",
    "    left = a**n + b**n\n",
    "    right = c**n\n",
    "    #check and see if equal\n",
    "    if left == right:\n",
    "        print(\"Holy smokes, Fermat was wrong!\")\n",
    "    else: \n",
    "        print(\"No, that doesn't work\")"
   ]
  },
  {
   "cell_type": "code",
   "execution_count": 69,
   "metadata": {
    "collapsed": false
   },
   "outputs": [],
   "source": [
    "def check_fermat(a,b,c,n):\n",
    "    if n < 2:\n",
    "        print('Need a higher n')\n",
    "    elif n > 2:\n",
    "            if (a**n)+(b**n)-(c**n) == 0:\n",
    "                print('Holy smokes, Fermat was wrong!')\n",
    "            else:\n",
    "                print(\"No, that doesn't work\")\n",
    "    else:\n",
    "        print('Need a higher n')\n",
    "            \n",
    "check_fermat(4,5,6,3)"
   ]
  },
  {
   "cell_type": "code",
   "execution_count": null,
   "metadata": {
    "collapsed": false
   },
   "outputs": [],
   "source": [
    "def check_fermat(a,b,c,n):\n",
    "    if a^n + b^n == c^n:\n",
    "        print(\"Holy smokes, Fermat was wrong!\")\n",
    "    else:\n",
    "        print(\"No, that doesn't work\")\n",
    "        \n",
    "check_fermat(2,4,10,2)"
   ]
  },
  {
   "cell_type": "code",
   "execution_count": 42,
   "metadata": {
    "collapsed": false
   },
   "outputs": [],
   "source": [
    "a = 5\n",
    "b = 11\n",
    "c = 3\n",
    "n = 3\n",
    "def check_fermat(a, b, c, n):\n",
    "    one = a**n + b**n\n",
    "    two = c**n\n",
    "    if one == two:\n",
    "        print(\"Holy smokes, Fermat was wrong!\")\n",
    "    else:\n",
    "        print(\"No, that doesnt work\")\n",
    "check_fermat(a, b, c, n)"
   ]
  },
  {
   "cell_type": "code",
   "execution_count": 49,
   "metadata": {
    "collapsed": false
   },
   "outputs": [],
   "source": [
    "def check_fermat(a,b,c,n): print(['No, that doesn\\'t work.','Holy smokes, Fermat was wrong!'][int(n>2 and a^n+b^n==c^n)])\n",
    "\n",
    "check_fermat(1,2,6,4)\n",
    "    "
   ]
  },
  {
   "cell_type": "code",
   "execution_count": 31,
   "metadata": {
    "collapsed": false
   },
   "outputs": [],
   "source": [
    "def check_fermat(a, b, c, n):\n",
    "    ferm = (a**n)+(b**n)\n",
    "\n",
    "    if ferm == c**n:\n",
    "        print('Holy smokes, Fermat was wrong!')\n",
    "    else:\n",
    "        print(\"No, that doesn't work\")\n",
    "        \n",
    "        \n",
    "        \n",
    "check_fermat(1, 2, 3, 4)"
   ]
  },
  {
   "cell_type": "code",
   "execution_count": 5,
   "metadata": {
    "collapsed": false
   },
   "outputs": [],
   "source": [
    "def check_fermat(a,b,c,n):\n",
    "    if n>2:\n",
    "        print ('\"Holy smokes, Fermat was wrong!\"')\n",
    "    else:\n",
    "        print ('\"No, that does not work.\"')\n",
    "        \n",
    "check_fermat(1,1,1,3)"
   ]
  },
  {
   "cell_type": "code",
   "execution_count": null,
   "metadata": {
    "collapsed": true
   },
   "outputs": [],
   "source": [
    "def check_fermat(a,b,c,n):\n",
    "    if a**n+b**n==c**n:\n",
    "        print \"Holy smokes Fermat was wrong!\"\n",
    "    else:\n",
    "        print \"No that doesn't work\""
   ]
  },
  {
   "cell_type": "code",
   "execution_count": null,
   "metadata": {
    "collapsed": true
   },
   "outputs": [],
   "source": [
    "def check_fermat(a,b,c,n):\n",
    "    left = a**n+b**n\n",
    "    right = c**n\n",
    "    if n>2:\n",
    "        if left == right:\n",
    "            print('Holy smokes, Fermat was wrong!')\n",
    "        else:\n",
    "            print(\"No, that doesn't work\")\n",
    "        \n",
    "    \n",
    "check_fermat(3,4,5,7)"
   ]
  },
  {
   "cell_type": "code",
   "execution_count": 20,
   "metadata": {
    "collapsed": false
   },
   "outputs": [],
   "source": [
    "def check_fermat(a,b,c,n):\n",
    "    if (a**n + b**n) == c**n and n >2:\n",
    "        print('Holy smokes, Fermat was wrong!')\n",
    "    else:\n",
    "        print('No, that does not work.')"
   ]
  },
  {
   "cell_type": "code",
   "execution_count": null,
   "metadata": {
    "collapsed": true
   },
   "outputs": [],
   "source": [
    "def check_fermat(a,b,c,n):\n",
    "    if (a**n)+(b**n)==(c**n):\n",
    "        print('Holy smokes, Fermat was wrong!')\n",
    "    else:\n",
    "        print('No, that does not work.')\n",
    "\n",
    "\n",
    "check_fermat(1,2,3,2)"
   ]
  },
  {
   "cell_type": "code",
   "execution_count": 91,
   "metadata": {
    "collapsed": false
   },
   "outputs": [],
   "source": [
    "def check_fermat(a,b,c,n):\n",
    "    if (a**n)+(b**n)==(c**n):\n",
    "        print(\"Holy smokes, Fermat was wrong!\")\n",
    "    else:\n",
    "        print(\"No, that doesn't work\")\n",
    "check_fermat(1,3,4,3)"
   ]
  },
  {
   "cell_type": "code",
   "execution_count": 29,
   "metadata": {
    "collapsed": false
   },
   "outputs": [],
   "source": [
    "def check_fermat(a, b, c, n):\n",
    "    fin = a ** n + b ** n;\n",
    "    ans = c ** n;\n",
    "    if ans == fin:\n",
    "        print('Holy smokes, Fermat was wrong!')\n",
    "    else:\n",
    "        print(\"No, that doesn't work.\")"
   ]
  },
  {
   "cell_type": "code",
   "execution_count": null,
   "metadata": {
    "collapsed": true
   },
   "outputs": [],
   "source": [
    "def check_fermat(a,b,c,n):\n",
    "    # checks that fermat's last theorem holds for the input\n",
    "    if (math.pow(a,n) + math.pow(b,n)) == math.pow(c,n) and n > 2:\n",
    "        print(\"Holy smokes, Fermat was wrong!\")\n",
    "    else:\n",
    "        print(\"No, that doesn't work.\")\n",
    "    return"
   ]
  },
  {
   "cell_type": "code",
   "execution_count": 96,
   "metadata": {
    "collapsed": false
   },
   "outputs": [],
   "source": [
    "def fermat(a, b, c, n):\n",
    "\n",
    "    if a > 2:\n",
    "        if b>2:\n",
    "            if c>2:\n",
    "                if n>2:\n",
    "                    firstterm = a**n + b**n\n",
    "                    secondterm = c**n\n",
    "                    if firstterm == secondterm:\n",
    "                        print('Holy smokes, Fermat was wrong!')\n",
    "                    else:\n",
    "                        print('No, that doesnt work')\n",
    "                else:\n",
    "                    print('n must be greater than 2')\n",
    "            else: \n",
    "                print('c must be greater than 2')\n",
    "        else: \n",
    "            print('b must be greater than 2')\n",
    "    else: \n",
    "        print ('a must be greater than 2')\n",
    "\n",
    "\n",
    "fermat(5.6,7,3,2.9)\n"
   ]
  },
  {
   "cell_type": "code",
   "execution_count": 44,
   "metadata": {
    "collapsed": false
   },
   "outputs": [],
   "source": [
    "def check_fermat(a, b, c, n):\n",
    "    side1 = a**n + b**n\n",
    "    side2 = c**n\n",
    "    if side1 == side2:\n",
    "        print('Holy smokes, Fermat was wrong!')\n",
    "    else:\n",
    "        print('No, that doesn\\'t work')\n",
    "\n",
    "check_fermat(1, 2, 3, 4)\n",
    "check_fermat(3, 4, 5, 2)"
   ]
  },
  {
   "cell_type": "code",
   "execution_count": 1,
   "metadata": {
    "collapsed": false
   },
   "outputs": [],
   "source": [
    "import math\n",
    "def check_fermat(a,b,c,n):\n",
    "    int(a)\n",
    "    int(b)\n",
    "    int(c)\n",
    "    int(n)\n",
    "    if a ** n + b ** n == c**n:\n",
    "        print('Holy smokes, Fermat was wrong!')\n",
    "    else:\n",
    "        print(\"No, that doesn't work\")   \n",
    "        \n",
    "check_fermat(1,1,1,1)"
   ]
  },
  {
   "cell_type": "code",
   "execution_count": 40,
   "metadata": {
    "collapsed": false
   },
   "outputs": [],
   "source": [
    "def check_fermat(a,b,c,n):\n",
    "    if(a**n + b**n == c**n and n>2):\n",
    "        print(\"No, that doesn’t work.\")\n",
    "    else:\n",
    "        print(\"Holy smokes, Fermat was wrong!\")\n",
    "        "
   ]
  },
  {
   "cell_type": "code",
   "execution_count": 34,
   "metadata": {
    "collapsed": false
   },
   "outputs": [],
   "source": [
    "def check_fermat(a, b, c, n):\n",
    "    if n > 2 and (a**n + b**n == c**n):\n",
    "        print (\"Holy smokes, Fermat was wrong!\")\n",
    "    else:\n",
    "            print(\"No, that doesn't work.\")\n"
   ]
  },
  {
   "cell_type": "code",
   "execution_count": 108,
   "metadata": {
    "collapsed": false
   },
   "outputs": [],
   "source": [
    "a = 3\n",
    "b = 4\n",
    "c = 5\n",
    "n = 3\n",
    "\n",
    "def check_fermat(n):\n",
    "    if n <=20:\n",
    "        if a**n + b**n != c**n:\n",
    "            print('No, that does not work')\n",
    "            check_fermat(n+1)\n",
    "        else:\n",
    "            print('Holy smokes, Fermat was wrong!')\n",
    "            \n",
    "check_fermat(n)\n",
    "    "
   ]
  },
  {
   "cell_type": "code",
   "execution_count": 3,
   "metadata": {
    "collapsed": false
   },
   "outputs": [],
   "source": [
    "import math\n",
    "def check_fermet(a,b,c,n):\n",
    "    if n > 2:\n",
    "        v = math.pow(a,n) +  math.pow(b,n) \n",
    "        if v ==  math.pow(c,n):\n",
    "            print('Fermat was wrong!')\n",
    "        else:\n",
    "            print(\"No, that doesn't work\")    \n",
    "        \n",
    "    else:\n",
    "        print(\"Doesn't match criteria\")\n",
    "check_fermet(1,2,3,4)"
   ]
  },
  {
   "cell_type": "code",
   "execution_count": 4,
   "metadata": {
    "collapsed": false
   },
   "outputs": [],
   "source": [
    "''' check_fermat function\n",
    "parameters:\n",
    "    - a,b,c,n: integers plugged into Fermat's Last Theorem\n",
    "return:\n",
    "    - statement verifying whether the input values break Fermat's Last Theorem\n",
    "'''\n",
    "\n",
    "def check_fermat(a, b, c, n):\n",
    "    if (n > 2) and (a**n + b**n == c**n):\n",
    "        print(\"Holy smokes, Fermat was wrong!\")\n",
    "    elif (n <= 2):\n",
    "        print(\"Yep, that works.\")\n",
    "        print(a**n + b**n, \"equals\",c**n,\".\")\n",
    "    else:\n",
    "        print(\"No, that doesn't work.\")\n",
    "        print(a**n + b**n, \"does not equal\",c**n,\".\")\n",
    "\n",
    "check_fermat(6,8,10,2)\n",
    "check_fermat(6,8,10,3)"
   ]
  },
  {
   "cell_type": "code",
   "execution_count": 78,
   "metadata": {
    "collapsed": false
   },
   "outputs": [],
   "source": [
    "def check_fermat(a,b,c,n):\n",
    "    if(n > 2) and (a**n + b**n == c**n):\n",
    "        print('Holy smokes, Fermat was wrong!')\n",
    "    else:\n",
    "        print('No, that doesn’t work.')\n",
    "        \n",
    "check_fermat(1,2,3,4)"
   ]
  },
  {
   "cell_type": "code",
   "execution_count": 52,
   "metadata": {
    "collapsed": false
   },
   "outputs": [],
   "source": [
    "def check_fermat(a,b,c,n):\n",
    "    a>0\n",
    "    b>0\n",
    "    c>0\n",
    "    n>2\n",
    "    if a**n + b**n == c**n :\n",
    "        print('Holy smokes, Fermat was wrong!')\n",
    "    else: print('No, that doesn\\'t work.')\n",
    "check_fermat(1,1,1,3)"
   ]
  },
  {
   "cell_type": "code",
   "execution_count": 121,
   "metadata": {
    "collapsed": false
   },
   "outputs": [],
   "source": [
    "def check_fermat (a,b,c,n):\n",
    "    if(n > 2 and math.pow(a,n)+math.pow(b,n) == math.pow(c,n)):\n",
    "        print (\"Holy smokes, Fermat was wrong!\")\n",
    "    else:\n",
    "        print (\"No, that doesn't work\")\n",
    "\n",
    "check_fermat(2,2,3,3)"
   ]
  },
  {
   "cell_type": "code",
   "execution_count": 11,
   "metadata": {
    "collapsed": false
   },
   "outputs": [],
   "source": [
    "def check_fermat(a, b, c, n):\n",
    "    if n > 2 and (a**n) + (b**n) == c**n:\n",
    "        print('Holy smokes, Fermat was wrong!')\n",
    "    else:\n",
    "        print('No, that does not work.')\n",
    "        \n",
    "check_fermat(2, 3, 4, 3)"
   ]
  },
  {
   "cell_type": "markdown",
   "metadata": {
    "is_question": true
   },
   "source": [
    "### Exercise 5.3 \n",
    "\n",
    "If you are given three sticks, you may or may not be able to arrange them in a triangle. For example, if one of the sticks is 12 inches long and the other two are one inch long, it is clear that you will not be able to get the short sticks to meet in the middle. For any three lengths, there is a simple test to see if it is possible to form a triangle:\n",
    "> If any of the three lengths is greater than the sum of the other two, then you cannot form a triangle. Otherwise, you can. (If the sum of two lengths equals the third, they form what is called a “degenerate” triangle.)\n",
    "\n",
    "1\\. Write a function named `is_triangle` that takes three integers as arguments, and that prints either \"Yes\" or \"No,\" depending on whether you can or cannot form a triangle from sticks with the given lengths."
   ]
  },
  {
   "cell_type": "code",
   "execution_count": 38,
   "metadata": {
    "collapsed": false
   },
   "outputs": [],
   "source": [
    "def is_triangle(a, b, c):\n",
    "  if a < b + c and b < a + c and c < a + b:\n",
    "    print(\"Yes\")\n",
    "  else:\n",
    "    print(\"No\")\n",
    "    \n",
    "is_triangle(2,3,4)"
   ]
  },
  {
   "cell_type": "code",
   "execution_count": null,
   "metadata": {
    "collapsed": true
   },
   "outputs": [],
   "source": [
    ">>> def is_triangle(a, b, c):\n",
    "...     suma = b + c\n",
    "...     sumb = a + c\n",
    "...     sumc = a + b\n",
    "...     if(a >= suma or b >= sumb or c >= sumc):\n",
    "...         print('No.')\n",
    "...     else:\n",
    "...         print('Yes')\n",
    "... \n",
    ">>> is_triangle(3,3,6)\n",
    "No.\n",
    ">>> is_triangle(4,5,6)\n",
    "Yes\n"
   ]
  },
  {
   "cell_type": "code",
   "execution_count": 72,
   "metadata": {
    "collapsed": false
   },
   "outputs": [],
   "source": [
    "def is_triangle(a,b,c):\n",
    "    if a + b >= c and b + c >= a and a + c >= b:\n",
    "        print(\"Yes\")\n",
    "    else:\n",
    "        print('No')\n",
    "        \n",
    "is_triangle(3,4,5)"
   ]
  },
  {
   "cell_type": "code",
   "execution_count": 105,
   "metadata": {
    "collapsed": false
   },
   "outputs": [],
   "source": [
    "def is_triangle():\n",
    "    a = 3\n",
    "    b = 4\n",
    "    c = 5\n",
    "    \n",
    "    if a + b >= c:\n",
    "        if a + c >= b:\n",
    "            if b + c >= a:\n",
    "                print('Yes')\n",
    "    else:\n",
    "        print('No')\n",
    "        \n",
    "is_triangle()"
   ]
  },
  {
   "cell_type": "code",
   "execution_count": 5,
   "metadata": {
    "collapsed": false
   },
   "outputs": [],
   "source": [
    "def is_triangle(a,b,c):\n",
    "    if a+b == c:\n",
    "        print('Degenerate')\n",
    "    elif a+c == b:\n",
    "        print('Degenerate')\n",
    "    elif c+b == a:\n",
    "        print('Degenerate')\n",
    "    elif a+b < c:\n",
    "        print('No')\n",
    "    elif a+c < b:\n",
    "        print('No')\n",
    "    elif b+c < a:\n",
    "        print('No')\n",
    "    else:\n",
    "        print('Yes')\n",
    "        \n",
    "is_triangle(12,2,2)\n",
    "\n",
    "is_triangle(12,12,12)\n",
    "\n",
    "is_triangle(12,6,6)"
   ]
  },
  {
   "cell_type": "code",
   "execution_count": null,
   "metadata": {
    "collapsed": true
   },
   "outputs": [],
   "source": [
    "def is_triangle(a, b, c):\n",
    "    if (a+b) <= c or (b+c) <= a or (a+c) <= b:\n",
    "        print('No')\n",
    "    else: \n",
    "            print('Yes')"
   ]
  },
  {
   "cell_type": "code",
   "execution_count": null,
   "metadata": {
    "collapsed": true
   },
   "outputs": [],
   "source": [
    "def is_triangle(a,b,c):\n",
    "    largest = a\n",
    "    sum = b+c\n",
    "    if(largest < b):\n",
    "        largest = b\n",
    "        sum = a+c\n",
    "    if(largest < c):\n",
    "        largest = c\n",
    "        sum = a+b\n",
    "\n",
    "    if(largest > sum):\n",
    "        print('No')\n",
    "    else:\n",
    "        print('Yes')"
   ]
  },
  {
   "cell_type": "code",
   "execution_count": null,
   "metadata": {
    "collapsed": true
   },
   "outputs": [],
   "source": [
    "def is_triangle(a,b,c):\n",
    "  \n",
    "    a = int(a)\n",
    "    print(a)\n",
    "  \n",
    "    b = int(b)\n",
    "    print(b)\n",
    "  \n",
    "    c = int(c)\n",
    "    print(c)\n",
    "    if c > a+b:\n",
    "        print('This does not work')\n",
    "    elif b > a+c:\n",
    "        print('This does not work')\n",
    "    elif a > b+c:\n",
    "        print('This does not work')\n",
    "    elif a == b+c:\n",
    "        print(\"That's a degenerate triangle\")\n",
    "    elif b == a+c:\n",
    "        print(\"That's a degenerate triangle\")\n",
    "    elif c == a+b:\n",
    "        print(\"That's a degenerate triangle\")\n",
    "    else:\n",
    "        print(\"Nice Job! That's a triangle!\")\n",
    "\n",
    "              "
   ]
  },
  {
   "cell_type": "code",
   "execution_count": 2,
   "metadata": {
    "collapsed": false
   },
   "outputs": [],
   "source": [
    "def is_triangle(a,b,c):\n",
    "    if a > b + c or b > a + c or c > a + b:\n",
    "        print(\"No\")\n",
    "    else:\n",
    "        print(\"Yes\")\n",
    "    return\n"
   ]
  },
  {
   "cell_type": "code",
   "execution_count": 27,
   "metadata": {
    "collapsed": false
   },
   "outputs": [],
   "source": [
    "def is_triangle(a,b,c):\n",
    "    if a+b>=c and b+c>=a and c+a>=b:\n",
    "        print(\"Yes\")\n",
    "    else:\n",
    "        print(\"No\")\n",
    "        \n",
    "        \n",
    "is_triangle(1,3,2)"
   ]
  },
  {
   "cell_type": "code",
   "execution_count": 49,
   "metadata": {
    "collapsed": false
   },
   "outputs": [],
   "source": [
    "def is_triangle(a, b, c):\n",
    "    check1 = (a+b) > c\n",
    "    check2 = (b+c) > a\n",
    "    check3 = (a+c) > b\n",
    "    if check1 and check2 and check3:\n",
    "        print('It is a triangle')\n",
    "    else:\n",
    "        print('It is not a triangle')\n",
    "        \n",
    "is_triangle(1, 2, 12)\n",
    "is_triangle(3, 4, 5)"
   ]
  },
  {
   "cell_type": "code",
   "execution_count": 33,
   "metadata": {
    "collapsed": false
   },
   "outputs": [],
   "source": [
    "def is_triangle(a,b,c):\n",
    "    if (a+b >=c and b+c >= a and c+a >= b):\n",
    "        print(\"Yes\")\n",
    "    else:\n",
    "        print(\"No\")"
   ]
  },
  {
   "cell_type": "code",
   "execution_count": null,
   "metadata": {
    "collapsed": true
   },
   "outputs": [],
   "source": [
    "def is_triangle(a,b,c):\n",
    "    if a > b+c or b > a+c or c > a+b:\n",
    "        print(\"Nope\")\n",
    "    else:\n",
    "        print(\"Yep\")\n",
    "is_triangle(3,4,5"
   ]
  },
  {
   "cell_type": "code",
   "execution_count": null,
   "metadata": {
    "collapsed": true
   },
   "outputs": [],
   "source": [
    ">>> def is_triangle(s1, s2, s3):\n",
    "...     if s1 + s2 < s3 or s1 + s3 < s2 or s2 + s3 < s2:\n",
    "...         print(\"No\")\n",
    "...     else:\n",
    "...         print(\"Yes\")\n",
    "... \n",
    "\n",
    ">>> is_triangle(2,5,1)\n",
    "No\n",
    ">>> is_triangle(3,4,5)\n",
    "Yes\n",
    ">>> is_triangle(1,1,1)\n",
    "Yes\n"
   ]
  },
  {
   "cell_type": "code",
   "execution_count": 7,
   "metadata": {
    "collapsed": false
   },
   "outputs": [],
   "source": [
    "def is_triangle(a,b,c):\n",
    "    if a+b < c:\n",
    "        print('no')\n",
    "    elif a+c < b:\n",
    "        print('no')\n",
    "    elif b+c < a:\n",
    "        print('no')\n",
    "    else:\n",
    "        print('yes')\n",
    "        \n",
    "is_triangle(1,2,7)"
   ]
  },
  {
   "cell_type": "code",
   "execution_count": 12,
   "metadata": {
    "collapsed": false
   },
   "outputs": [],
   "source": [
    "def is_triangle(stick1,stick2,stick3):\n",
    "      \n",
    "    if stick1 + stick2 < stick3:\n",
    "        print(\"no\")\n",
    "    elif stick2+stick3 < stick1:\n",
    "        print(\"no\")\n",
    "    elif stick3+stick1 < stick2:\n",
    "        print(\"no\")\n",
    "    else: \n",
    "        print(\"yes\")\n",
    "        \n",
    "is_triangle(23,3,5)\n",
    "    "
   ]
  },
  {
   "cell_type": "code",
   "execution_count": 28,
   "metadata": {
    "collapsed": false
   },
   "outputs": [],
   "source": [
    "def is_triangle(a,b,c):\n",
    "    if a+b<c or b+c<a or a+c<b:\n",
    "        print(\"No\")\n",
    "        return\n",
    "    print(\"Yes\")  "
   ]
  },
  {
   "cell_type": "code",
   "execution_count": 69,
   "metadata": {
    "collapsed": false
   },
   "outputs": [],
   "source": [
    "l1 = 4;\n",
    "l2 = 3;\n",
    "l3 = 5;\n",
    "\n",
    "def is_triangle(l1, l2, l3):\n",
    "    if (l1 + l2) <= l3:\n",
    "        print('no')\n",
    "    elif (l1 + l2) <= l3:\n",
    "        print('no')\n",
    "    elif (l2 + l3) <= l1:\n",
    "        print('no')\n",
    "    else:\n",
    "        print('yes')\n",
    "is_triangle(l1, l2, l3)"
   ]
  },
  {
   "cell_type": "code",
   "execution_count": 45,
   "metadata": {
    "collapsed": false
   },
   "outputs": [],
   "source": [
    "def is_triangle(a,b,c): print(['Yes','No'][int(sorted([a,b,c])[2] > sorted([a,b,c])[1] + sorted([a,b,c])[0])])\n"
   ]
  },
  {
   "cell_type": "code",
   "execution_count": null,
   "metadata": {
    "collapsed": false
   },
   "outputs": [],
   "source": [
    "def check_triangle(s1, s2, s3):\n",
    "    if (s1 + s2) < s3:\n",
    "        print('Not a triangle')\n",
    "    elif (s1 + s3) < s1:\n",
    "        print('Not a triangle')\n",
    "    else:\n",
    "        print('is a triangle')\n",
    "\n",
    "        \n",
    "check_triangle(1, 1, 5)"
   ]
  },
  {
   "cell_type": "code",
   "execution_count": 49,
   "metadata": {
    "collapsed": false
   },
   "outputs": [],
   "source": [
    "def is_triangle(a, b, c):\n",
    "    tri = True\n",
    "\n",
    "    if a+b <= c:\n",
    "        tri = False\n",
    "    elif a+c <= b:\n",
    "        tri = False\n",
    "    elif b+c <= a:\n",
    "        tri = False\n",
    "\n",
    "    if tri:\n",
    "        print('Yes')\n",
    "    else:\n",
    "        print('No')\n",
    "        \n",
    "is_triangle(3, 4, 5)"
   ]
  },
  {
   "cell_type": "code",
   "execution_count": 27,
   "metadata": {
    "collapsed": false
   },
   "outputs": [],
   "source": [
    "def is_triangle(a,b,c):\n",
    "    if a+b>c:\n",
    "        print (\"Yes\")\n",
    "    elif a+b<c:\n",
    "        print (\"No\")\n",
    "    elif a+c>b:\n",
    "        print (\"Yes\")\n",
    "    elif a+c<b:\n",
    "        print (\"No\")\n",
    "    elif b+c>a:\n",
    "        print (\"Yes\")\n",
    "    elif b+c<a:\n",
    "        print (\"No\")\n",
    "\n",
    "is_triangle(1,1,3)"
   ]
  },
  {
   "cell_type": "code",
   "execution_count": null,
   "metadata": {
    "collapsed": true
   },
   "outputs": [],
   "source": [
    "def istriangle(a, b, c):\n",
    "    if a>(b+c):\n",
    "        print(\"no\")\n",
    "    elif b>(a+c):\n",
    "        print(\"no\")\n",
    "    elif c>(a+b):\n",
    "        print(\"no\")\n",
    "    else:\n",
    "        print(\"yes\")\n"
   ]
  },
  {
   "cell_type": "code",
   "execution_count": 15,
   "metadata": {
    "collapsed": false
   },
   "outputs": [],
   "source": [
    "def is_triangle(a, b, c):\n",
    "    if a + b > c and a + c > b and b + c > a:\n",
    "        print('Yes')\n",
    "    else:\n",
    "        print('No')\n",
    "\n",
    "is_triangle(7,8,9)\n",
    "is_triangle(50, 2, 4)\n"
   ]
  },
  {
   "cell_type": "code",
   "execution_count": null,
   "metadata": {
    "collapsed": true
   },
   "outputs": [],
   "source": [
    "def is_triangle(a,b,c):\n",
    "    if ((a+b >= c) or (a+c >= b) or (b+c >= a)):\n",
    "        print('Yes')\n",
    "    else:\n",
    "        print('No')"
   ]
  },
  {
   "cell_type": "code",
   "execution_count": null,
   "metadata": {
    "collapsed": true
   },
   "outputs": [],
   "source": [
    ">>> def is_triangle(a,b,c):\n",
    "...     if(a>b+c):\n",
    "...             print(\"no\")\n",
    "...     elif(b>a+c):\n",
    "...             print(\"no\")\n",
    "...     elif(c>a+b):\n",
    "...             print(\"no\")\n",
    "...     else:\n",
    "...             print(\"yes\")\n",
    "... \n",
    ">>> is_triangle(5,4,3)\n",
    "yes\n",
    ">>> is_triangle(15,4,3)\n",
    "no"
   ]
  },
  {
   "cell_type": "code",
   "execution_count": 24,
   "metadata": {
    "collapsed": false
   },
   "outputs": [],
   "source": [
    "def is_triangle(a,b,c):\n",
    "    if (a+b>c) and (a+c>b) and (b+c>a):\n",
    "        print('Yes')\n",
    "    else:\n",
    "        print('No')"
   ]
  },
  {
   "cell_type": "code",
   "execution_count": 12,
   "metadata": {
    "collapsed": false
   },
   "outputs": [],
   "source": [
    "def is_triangle(a,b,c):\n",
    "    if a>(b+c):\n",
    "        print('No')\n",
    "    elif b>(a+c):\n",
    "        print('No')\n",
    "    elif c>(a+b):\n",
    "        print('No')\n",
    "    else:\n",
    "        print('Yes')\n",
    "\n",
    "\n",
    "is_triangle(1,2,6)\n",
    "is_triangle(2,3,4)"
   ]
  },
  {
   "cell_type": "code",
   "execution_count": 100,
   "metadata": {
    "collapsed": false
   },
   "outputs": [],
   "source": [
    "def is_triangle(a,b,c):\n",
    "    if a>b+c:\n",
    "        print(\"No\")\n",
    "    else:\n",
    "        if b>a+c:\n",
    "            print(\"No\")\n",
    "        else:\n",
    "            if c>a+b:\n",
    "                print(\"No\")\n",
    "            else:\n",
    "                print(\"Yes\")\n",
    "is_triangle(1,2,3)"
   ]
  },
  {
   "cell_type": "code",
   "execution_count": 61,
   "metadata": {
    "collapsed": false
   },
   "outputs": [],
   "source": [
    "def is_triangle(a, b, c):\n",
    "    if a + b < c:\n",
    "        print('No')\n",
    "    else:\n",
    "        if b + c < a:\n",
    "            print('No')\n",
    "        else:\n",
    "            if a + c < b:\n",
    "                print('No')\n",
    "            else:\n",
    "                print('Yes')"
   ]
  },
  {
   "cell_type": "code",
   "execution_count": 16,
   "metadata": {
    "collapsed": false
   },
   "outputs": [],
   "source": [
    "def is_triangle(a, b, c):\n",
    "    if b + c < a:\n",
    "        print('You cannot form a triangle, the first value you put in\\\n",
    "              is greater than the sum of all the sides')\n",
    "    elif a + c < b:\n",
    "        print('You cannot form a triangle, the second value you put in\\\n",
    "              is greater than the sum of all the sides')\n",
    "    elif a + b < c:\n",
    "        print('You cannot form a triangle, the third value you put in\\\n",
    "              is greater than the sum of all the sides')\n",
    "    else:\n",
    "        print('A triangle can be drawn with the given side values')\n",
    "\n",
    "is_triangle(3, 4, 14)\n"
   ]
  },
  {
   "cell_type": "code",
   "execution_count": 102,
   "metadata": {
    "collapsed": false
   },
   "outputs": [],
   "source": [
    "def is_triangle (a, b, c):\n",
    "    ab = a+b\n",
    "    ac = a+c\n",
    "    cb = c+b\n",
    "    if ab > c and ac > b and cb > a:\n",
    "        print('yes')\n",
    "    else:\n",
    "        print('no')\n",
    "\n",
    "is_triangle(3,4,10)"
   ]
  },
  {
   "cell_type": "code",
   "execution_count": 86,
   "metadata": {
    "collapsed": false
   },
   "outputs": [],
   "source": [
    "def is_triangle(a, b, c):\n",
    "    if a > b + c or b > a + c or c > a + b:\n",
    "        print(\"No\")\n",
    "    else:\n",
    "        print(\"Yes\")\n",
    "        \n",
    "is_triangle(3, 4, 5)\n",
    "is_triangle(3, 4, 8)"
   ]
  },
  {
   "cell_type": "code",
   "execution_count": 7,
   "metadata": {
    "collapsed": false
   },
   "outputs": [],
   "source": [
    "def isTriangle(a,b,c):\n",
    "    if(a+b<c):\n",
    "        print(\"No\")\n",
    "    elif(a+c<b):\n",
    "        print(\"No\")\n",
    "    elif(b+c<a):\n",
    "        print(\"No\")\n",
    "    else:\n",
    "        print(\"Yes\")\n",
    "isTriangle(1,1,1)\n",
    "            \n",
    "    "
   ]
  },
  {
   "cell_type": "code",
   "execution_count": 62,
   "metadata": {
    "collapsed": true
   },
   "outputs": [],
   "source": [
    "def is_triangle(values):\n",
    "    sorted(values)\n",
    "    if(values.pop >= (values.pop + values.pop)):\n",
    "        print(\"No\")\n",
    "    else:\n",
    "        print(\"Yes\")"
   ]
  },
  {
   "cell_type": "code",
   "execution_count": 118,
   "metadata": {
    "collapsed": false
   },
   "outputs": [],
   "source": [
    "a = 2\n",
    "b = 6\n",
    "c = 10\n",
    "\n",
    "def is_triangle():\n",
    "    if a+b >= c:\n",
    "        if a+c >= b:\n",
    "            if c+b >= a:\n",
    "                print('It is a triangle! :D')\n",
    "    else:\n",
    "        print('It is not a triangle D:')\n",
    "        \n",
    "is_triangle()"
   ]
  },
  {
   "cell_type": "code",
   "execution_count": 15,
   "metadata": {
    "collapsed": false
   },
   "outputs": [],
   "source": [
    "def is_triangle(a,b,c):\n",
    "    if a >= b + c:\n",
    "        print('No')\n",
    "    elif b >= a + c:\n",
    "        print('NO')\n",
    "    elif c >= a + b:\n",
    "        print('NO')\n",
    "    else:\n",
    "        print('Yes')"
   ]
  },
  {
   "cell_type": "code",
   "execution_count": 10,
   "metadata": {
    "collapsed": false
   },
   "outputs": [],
   "source": [
    "'''function is_triangle\n",
    "arguments:\n",
    "- s1: first side length\n",
    "- s2: second side length\n",
    "- s3: third side length\n",
    "returns: prints bool value depicting ability of sticks to become triangle\n",
    "'''\n",
    "def is_triangle(s1,s2,s3):\n",
    "    if (s1+s2 <= s3) or (s1+s3 <= s2) or (s2+s3 <= s1):\n",
    "        print(\"No.\")\n",
    "    else:\n",
    "        print(\"Yes.\")\n",
    "\n",
    "is_triangle(3,6,9)\n",
    "is_triangle(3,6,8)\n",
    "is_triangle(3,6,10)"
   ]
  },
  {
   "cell_type": "code",
   "execution_count": 93,
   "metadata": {
    "collapsed": false
   },
   "outputs": [],
   "source": [
    "def is_triangle(a,b,c):\n",
    "    if a+b<c or b+c<a or c+a<b:\n",
    "        print('No')\n",
    "    else:\n",
    "        print('Yes')\n",
    "        \n",
    "is_triangle(1,2,3)"
   ]
  },
  {
   "cell_type": "code",
   "execution_count": 54,
   "metadata": {
    "collapsed": false
   },
   "outputs": [],
   "source": [
    "def is_triangle(a,b,c):\n",
    "    if a>b+c: print('No')\n",
    "    elif b>a+c: print('No')\n",
    "    elif c>a+b: print('No')\n",
    "    else: print('Yes')\n",
    "is_triangle(2,2,4)"
   ]
  },
  {
   "cell_type": "code",
   "execution_count": 131,
   "metadata": {
    "collapsed": false
   },
   "outputs": [],
   "source": [
    "def is_triangle(a,b,c):\n",
    "    if(a + b >c and b + c > a and c + a > b):\n",
    "        print (\"Yes\")\n",
    "    else:\n",
    "        print (\"No\")\n",
    "\n",
    "is_triangle(1,1,1)\n",
    "is_triangle(3,4,5)\n",
    "is_triangle(1,1,2)"
   ]
  },
  {
   "cell_type": "code",
   "execution_count": null,
   "metadata": {
    "collapsed": true
   },
   "outputs": [],
   "source": [
    "def is_triangle(one, two, three):\n",
    "    if (one > (two +three)) or (two > (one +three)) or (three > (one + two)):\n",
    "        print (\"No\")\n",
    "    else:\n",
    "        print(\"Yes\")"
   ]
  },
  {
   "cell_type": "code",
   "execution_count": 21,
   "metadata": {
    "collapsed": false
   },
   "outputs": [],
   "source": [
    "def is_triangle(one, two, three):\n",
    "    if one > two + three or two > one + three or three > one + two:\n",
    "        print('No')\n",
    "    else:\n",
    "        print('Yes')\n",
    "        \n",
    "is_triangle(4, 5, 3)"
   ]
  }
 ],
 "metadata": {
  "anaconda-cloud": {},
  "kernelspec": {
   "display_name": "Python [default]",
   "language": "python",
   "name": "python3"
  },
  "language_info": {
   "codemirror_mode": {
    "name": "ipython",
    "version": 3
   },
   "file_extension": ".py",
   "mimetype": "text/x-python",
   "name": "python",
   "nbconvert_exporter": "python",
   "pygments_lexer": "ipython3",
   "version": "3.5.2"
  }
 },
 "nbformat": 4,
 "nbformat_minor": 0
}
